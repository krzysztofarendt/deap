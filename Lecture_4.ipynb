{
 "cells": [
  {
   "cell_type": "markdown",
   "metadata": {
    "slideshow": {
     "slide_type": "skip"
    }
   },
   "source": [
    "To generate a presentation run the following command:\n",
    "\n",
    "``jupyter nbconvert Lecture_4.ipynb --to slides --post serve``"
   ]
  },
  {
   "cell_type": "markdown",
   "metadata": {
    "slideshow": {
     "slide_type": "skip"
    }
   },
   "source": [
    "# How to use this notebook\n",
    "\n",
    "This notebook serves as both a presentation and interactive environment for students to experiment with Python. If you run it in the interactive mode using [Binder](https://mybinder.org/v2/gh/krzysztofarendt/deap/master), you can modify all code cells. Press `Shift+Enter` to run the modified code.\n",
    "\n",
    "Link to the repository: https://github.com/krzysztofarendt/deap "
   ]
  },
  {
   "cell_type": "markdown",
   "metadata": {
    "slideshow": {
     "slide_type": "slide"
    }
   },
   "source": [
    "# Lecture outline\n",
    "\n",
    "1. Reading and writing files with Python\n",
    "2. Introduction to `pandas`"
   ]
  },
  {
   "cell_type": "markdown",
   "metadata": {
    "slideshow": {
     "slide_type": "slide"
    }
   },
   "source": [
    "# Reading and writing files with Python\n",
    "\n",
    "Programs that can process data stored in text file are often very useful. The most generic (= usually not the easiest/fastest) way to work with text file is by using the function `open(filename, mode)`:"
   ]
  },
  {
   "cell_type": "code",
   "execution_count": 1,
   "metadata": {
    "slideshow": {
     "slide_type": "-"
    }
   },
   "outputs": [],
   "source": [
    "f = open(\"examples/io/my_file.txt\", \"w\")\n",
    "\n",
    "f.write(\"Any text can be sent to the file...\\n\")\n",
    "f.write(\"And more than one line!\\n\")\n",
    "f.write(\"Remember to close the file when you're finished!\")\n",
    "\n",
    "f.close()"
   ]
  },
  {
   "cell_type": "markdown",
   "metadata": {
    "slideshow": {
     "slide_type": "subslide"
    }
   },
   "source": [
    "The are four modes in which you can open a file:\n",
    "- 'r' - read mode,\n",
    "- 'w' - write mode,\n",
    "- 'a' - append mode,\n",
    "- 'r+' - read and write mode."
   ]
  },
  {
   "cell_type": "markdown",
   "metadata": {
    "slideshow": {
     "slide_type": "subslide"
    }
   },
   "source": [
    "If you open a file in the *read* mode, you can only read its content:"
   ]
  },
  {
   "cell_type": "code",
   "execution_count": 2,
   "metadata": {
    "slideshow": {
     "slide_type": "-"
    }
   },
   "outputs": [
    {
     "name": "stdout",
     "output_type": "stream",
     "text": [
      "['Any text can be sent to the file...\\n', 'And more than one line!\\n', \"Remember to close the file when you're finished!\"]\n"
     ]
    }
   ],
   "source": [
    "f = open(\"examples/io/my_file.txt\", \"r\")\n",
    "content = f.readlines()\n",
    "f.close()\n",
    "\n",
    "print(content)"
   ]
  },
  {
   "cell_type": "markdown",
   "metadata": {
    "slideshow": {
     "slide_type": "fragment"
    }
   },
   "source": [
    "Can you guess the data type returned by `f.readlines()`?"
   ]
  },
  {
   "cell_type": "markdown",
   "metadata": {
    "slideshow": {
     "slide_type": "subslide"
    }
   },
   "source": [
    "You can iterate over the lines and process them separately:"
   ]
  },
  {
   "cell_type": "code",
   "execution_count": 3,
   "metadata": {
    "slideshow": {
     "slide_type": "-"
    }
   },
   "outputs": [
    {
     "name": "stdout",
     "output_type": "stream",
     "text": [
      "Any text can be sent to the file...\n",
      "\n",
      "And more than one line!\n",
      "\n",
      "Remember to close the file when you're finished!\n"
     ]
    }
   ],
   "source": [
    "for line in content:\n",
    "    print(line)"
   ]
  },
  {
   "cell_type": "markdown",
   "metadata": {
    "slideshow": {
     "slide_type": "subslide"
    }
   },
   "source": [
    "In the previous example we printed strings ending with `\\n`. Additional new line characters are added automatically by the `print` statement itself. To remove `\\n` from a string you can you use any of the following methods:"
   ]
  },
  {
   "cell_type": "code",
   "execution_count": 4,
   "metadata": {
    "slideshow": {
     "slide_type": "-"
    }
   },
   "outputs": [
    {
     "name": "stdout",
     "output_type": "stream",
     "text": [
      "Any text can be sent to the file...\n",
      "And more than one line!\n",
      "Remember to close the file when you're finished!\n"
     ]
    }
   ],
   "source": [
    "for line in content:\n",
    "    print(line.strip())  # strip() removes any trailing spaces and new lines"
   ]
  },
  {
   "cell_type": "code",
   "execution_count": 5,
   "metadata": {
    "slideshow": {
     "slide_type": "subslide"
    }
   },
   "outputs": [
    {
     "name": "stdout",
     "output_type": "stream",
     "text": [
      "Any text can be sent to the file...\n",
      "And more than one line!\n",
      "Remember to close the file when you're finished!\n"
     ]
    }
   ],
   "source": [
    "for line in content:\n",
    "    print(line.replace('\\n', ''))  # replace() replaces specific characters or substrings"
   ]
  },
  {
   "cell_type": "code",
   "execution_count": 6,
   "metadata": {
    "slideshow": {
     "slide_type": "subslide"
    }
   },
   "outputs": [
    {
     "name": "stdout",
     "output_type": "stream",
     "text": [
      "The are 2 exclamation marks in the text.\n"
     ]
    }
   ],
   "source": [
    "# Count number of exclamation marks in the text\n",
    "n = 0\n",
    "for line in content:\n",
    "    for character in line:\n",
    "        if character == '!':\n",
    "            n += 1  # The same as n = n + 1\n",
    "\n",
    "print('The are {} exclamation marks in the text.'.format(n))"
   ]
  },
  {
   "cell_type": "markdown",
   "metadata": {
    "slideshow": {
     "slide_type": "subslide"
    }
   },
   "source": [
    "There are other functions for reading the files, but `readlines()` is probably the most straighforward.\n",
    "\n",
    "The other functions are:\n",
    "- `f.read()` - read entire file as one string\n",
    "- `f.readline()` - read one line and proceed to the next one\n",
    "\n",
    "Try them yourself on the file \"my_file.txt\"."
   ]
  },
  {
   "cell_type": "markdown",
   "metadata": {
    "slideshow": {
     "slide_type": "subslide"
    }
   },
   "source": [
    "Each time you open a file in a *write* mode ('w'), its content is deleted and replaced with the new content. That's why there's is also the *append* mode, in which you can only add new content to the end of the file."
   ]
  },
  {
   "cell_type": "code",
   "execution_count": 7,
   "metadata": {
    "slideshow": {
     "slide_type": "-"
    }
   },
   "outputs": [],
   "source": [
    "f = open(\"examples/io/my_file.txt\", \"a\")\n",
    "f.write('\\n')\n",
    "f.write(\"This line was added in the append ('a') mode.\")\n",
    "f.close()"
   ]
  },
  {
   "cell_type": "markdown",
   "metadata": {
    "slideshow": {
     "slide_type": "subslide"
    }
   },
   "source": [
    "Just like you can read multiple lines at once with `f.readlines()`, you can write multiple lines with `f.writelines()`:"
   ]
  },
  {
   "cell_type": "code",
   "execution_count": 8,
   "metadata": {
    "slideshow": {
     "slide_type": "-"
    }
   },
   "outputs": [],
   "source": [
    "lines = ['Line 1\\n', 'Line 2\\n', 'Line 3\\n']\n",
    "f = open(\"examples/io/my_file2.txt\", \"w\")\n",
    "f.writelines(lines)\n",
    "f.close()"
   ]
  },
  {
   "cell_type": "markdown",
   "metadata": {
    "slideshow": {
     "slide_type": "subslide"
    }
   },
   "source": [
    "Sometimes you want to both read and write to some file. There is a special mode 'r+' for this, however the same effect can be achieved using 'r' and 'w' separately, and this is what is advised to you for now :)"
   ]
  },
  {
   "cell_type": "markdown",
   "metadata": {
    "slideshow": {
     "slide_type": "subslide"
    }
   },
   "source": [
    "Finally, often the text stored in files is separated with commas, semicolons, or tabs. It's easy to split such text into separate strings.\n",
    "\n",
    "By the way, a tab is represented in Python with `\\t`."
   ]
  },
  {
   "cell_type": "code",
   "execution_count": 9,
   "metadata": {
    "slideshow": {
     "slide_type": "-"
    }
   },
   "outputs": [
    {
     "name": "stdout",
     "output_type": "stream",
     "text": [
      "var1,var2,var3\n",
      "var1;var2;var3\n",
      "var1\tvar2\tvar3\n"
     ]
    }
   ],
   "source": [
    "txt1 = \"var1,var2,var3\"\n",
    "txt2 = \"var1;var2;var3\"\n",
    "txt3 = \"var1\\tvar2\\tvar3\"\n",
    "print(txt1)\n",
    "print(txt2)\n",
    "print(txt3)"
   ]
  },
  {
   "cell_type": "code",
   "execution_count": 10,
   "metadata": {
    "slideshow": {
     "slide_type": "subslide"
    }
   },
   "outputs": [
    {
     "name": "stdout",
     "output_type": "stream",
     "text": [
      "['var1', 'var2', 'var3']\n",
      "['var1', 'var2', 'var3']\n",
      "['var1', 'var2', 'var3']\n"
     ]
    }
   ],
   "source": [
    "print(txt1.split(','))\n",
    "print(txt2.split(';'))\n",
    "print(txt3.split('\\t'))"
   ]
  },
  {
   "cell_type": "markdown",
   "metadata": {
    "slideshow": {
     "slide_type": "-"
    }
   },
   "source": [
    "Voila! You get a list of strings."
   ]
  },
  {
   "cell_type": "markdown",
   "metadata": {
    "slideshow": {
     "slide_type": "subslide"
    }
   },
   "source": [
    "### Exercise 1\n",
    "\n",
    "Some programs cannot read non-ASCII characters, like æ, å, ø, Æ, Å, Ø. To avoid ugly printing and other issues it is sometimes useful to replace those characters with ASCII equivalents, e.g.:\n",
    "- æ, Æ - ae, AE\n",
    "- å, Å - aa, AA\n",
    "- ø, Ø - oe, Oe\n",
    "\n",
    "Tasks:\n",
    "1. Read the text file `\"examples/dk_cities/data/dk_cities.csv\"` and replace all the Danish letters with the digraphs suggested above.\n",
    "2. Then save the file as `\"examples/dk_cities/data/dk_cities_ascii.csv\"`.\n",
    "\n",
    "It's best if you do the exercise in an **offline copy in Spyder**. Otherwise your script would be lost when you close the Binder."
   ]
  },
  {
   "cell_type": "markdown",
   "metadata": {
    "slideshow": {
     "slide_type": "slide"
    }
   },
   "source": [
    "# Introduction to Pandas\n",
    "\n",
    "[Pandas](https://pandas.pydata.org/) is a Python library for working with tabular data. To work with pandas first you need to import it:"
   ]
  },
  {
   "cell_type": "code",
   "execution_count": 11,
   "metadata": {
    "slideshow": {
     "slide_type": "-"
    }
   },
   "outputs": [],
   "source": [
    "import pandas as pd"
   ]
  },
  {
   "cell_type": "markdown",
   "metadata": {
    "slideshow": {
     "slide_type": "subslide"
    }
   },
   "source": [
    "### Reading and writing from and to CSV files\n",
    "\n",
    "CSV files are text files containing data stored as *comma-separated values*. It is one of the most often used file formats for storing **tabular data**.\n",
    "\n",
    "Reading CSV files is very easy with `pandas`."
   ]
  },
  {
   "cell_type": "code",
   "execution_count": 12,
   "metadata": {
    "slideshow": {
     "slide_type": "-"
    }
   },
   "outputs": [],
   "source": [
    "cities = pd.read_csv('examples/dk_cities/data/dk_cities.csv')"
   ]
  },
  {
   "cell_type": "markdown",
   "metadata": {
    "slideshow": {
     "slide_type": "subslide"
    }
   },
   "source": [
    "The content of the CSV file is now stored in a *data frame* (special data structure). There are many methods that you can use with data frames, e.g. to see the *head* of the data frame:"
   ]
  },
  {
   "cell_type": "code",
   "execution_count": 13,
   "metadata": {
    "slideshow": {
     "slide_type": "-"
    }
   },
   "outputs": [
    {
     "data": {
      "text/html": [
       "<div>\n",
       "<style scoped>\n",
       "    .dataframe tbody tr th:only-of-type {\n",
       "        vertical-align: middle;\n",
       "    }\n",
       "\n",
       "    .dataframe tbody tr th {\n",
       "        vertical-align: top;\n",
       "    }\n",
       "\n",
       "    .dataframe thead th {\n",
       "        text-align: right;\n",
       "    }\n",
       "</style>\n",
       "<table border=\"1\" class=\"dataframe\">\n",
       "  <thead>\n",
       "    <tr style=\"text-align: right;\">\n",
       "      <th></th>\n",
       "      <th>No.</th>\n",
       "      <th>City</th>\n",
       "      <th>2017</th>\n",
       "      <th>2016</th>\n",
       "      <th>2015</th>\n",
       "      <th>2014</th>\n",
       "      <th>2013</th>\n",
       "      <th>2012</th>\n",
       "      <th>2011</th>\n",
       "      <th>2010</th>\n",
       "      <th>2009</th>\n",
       "      <th>2008</th>\n",
       "      <th>2007</th>\n",
       "      <th>2006</th>\n",
       "      <th>Unnamed: 14</th>\n",
       "    </tr>\n",
       "  </thead>\n",
       "  <tbody>\n",
       "    <tr>\n",
       "      <th>0</th>\n",
       "      <td>1</td>\n",
       "      <td>Copenhagen</td>\n",
       "      <td>1295686</td>\n",
       "      <td>1280371</td>\n",
       "      <td>1263698</td>\n",
       "      <td>1246611</td>\n",
       "      <td>1230728</td>\n",
       "      <td>1213822</td>\n",
       "      <td>1199224</td>\n",
       "      <td>1181239</td>\n",
       "      <td>1167569</td>\n",
       "      <td>1153615</td>\n",
       "      <td>1145804</td>\n",
       "      <td>1084885</td>\n",
       "      <td>NaN</td>\n",
       "    </tr>\n",
       "    <tr>\n",
       "      <th>1</th>\n",
       "      <td>2</td>\n",
       "      <td>Aarhus</td>\n",
       "      <td>269022</td>\n",
       "      <td>264716</td>\n",
       "      <td>261570</td>\n",
       "      <td>259754</td>\n",
       "      <td>256018</td>\n",
       "      <td>252213</td>\n",
       "      <td>249709</td>\n",
       "      <td>242914</td>\n",
       "      <td>239865</td>\n",
       "      <td>237551</td>\n",
       "      <td>228123</td>\n",
       "      <td>228674</td>\n",
       "      <td>NaN</td>\n",
       "    </tr>\n",
       "    <tr>\n",
       "      <th>2</th>\n",
       "      <td>3</td>\n",
       "      <td>Odense</td>\n",
       "      <td>176683</td>\n",
       "      <td>175245</td>\n",
       "      <td>173814</td>\n",
       "      <td>172512</td>\n",
       "      <td>170327</td>\n",
       "      <td>168798</td>\n",
       "      <td>167615</td>\n",
       "      <td>166305</td>\n",
       "      <td>158678</td>\n",
       "      <td>158163</td>\n",
       "      <td>158453</td>\n",
       "      <td>152060</td>\n",
       "      <td>NaN</td>\n",
       "    </tr>\n",
       "    <tr>\n",
       "      <th>3</th>\n",
       "      <td>4</td>\n",
       "      <td>Aalborg</td>\n",
       "      <td>113417</td>\n",
       "      <td>112194</td>\n",
       "      <td>110495</td>\n",
       "      <td>109092</td>\n",
       "      <td>106916</td>\n",
       "      <td>104855</td>\n",
       "      <td>103545</td>\n",
       "      <td>102312</td>\n",
       "      <td>101497</td>\n",
       "      <td>100873</td>\n",
       "      <td>100731</td>\n",
       "      <td>100617</td>\n",
       "      <td>NaN</td>\n",
       "    </tr>\n",
       "    <tr>\n",
       "      <th>4</th>\n",
       "      <td>5</td>\n",
       "      <td>Esbjerg</td>\n",
       "      <td>72261</td>\n",
       "      <td>72151</td>\n",
       "      <td>72060</td>\n",
       "      <td>71618</td>\n",
       "      <td>71491</td>\n",
       "      <td>71579</td>\n",
       "      <td>71576</td>\n",
       "      <td>71459</td>\n",
       "      <td>71025</td>\n",
       "      <td>70880</td>\n",
       "      <td>71129</td>\n",
       "      <td>71886</td>\n",
       "      <td>NaN</td>\n",
       "    </tr>\n",
       "  </tbody>\n",
       "</table>\n",
       "</div>"
      ],
      "text/plain": [
       "   No.        City     2017     2016     2015     2014     2013     2012  \\\n",
       "0    1  Copenhagen  1295686  1280371  1263698  1246611  1230728  1213822   \n",
       "1    2      Aarhus   269022   264716   261570   259754   256018   252213   \n",
       "2    3      Odense   176683   175245   173814   172512   170327   168798   \n",
       "3    4     Aalborg   113417   112194   110495   109092   106916   104855   \n",
       "4    5     Esbjerg    72261    72151    72060    71618    71491    71579   \n",
       "\n",
       "      2011     2010     2009     2008     2007     2006  Unnamed: 14  \n",
       "0  1199224  1181239  1167569  1153615  1145804  1084885          NaN  \n",
       "1   249709   242914   239865   237551   228123   228674          NaN  \n",
       "2   167615   166305   158678   158163   158453   152060          NaN  \n",
       "3   103545   102312   101497   100873   100731   100617          NaN  \n",
       "4    71576    71459    71025    70880    71129    71886          NaN  "
      ]
     },
     "execution_count": 13,
     "metadata": {},
     "output_type": "execute_result"
    }
   ],
   "source": [
    "cities.head()  # print(cities.head()) if you're not in a Jupyter Notebook"
   ]
  },
  {
   "cell_type": "markdown",
   "metadata": {
    "slideshow": {
     "slide_type": "subslide"
    }
   },
   "source": [
    "You can see, that there is a strange column at the end, `'Unnamed: 14'`, which is here because the CSV file you read has a slightly incorrect format. Each line ends with a comma, whereas it should end with just a new line character.\n",
    "\n",
    "Let's deal with this problems using two different approaches.\n",
    "\n",
    "First, let's \"manually\" remove the trailing commas. Analyze the following code:"
   ]
  },
  {
   "cell_type": "code",
   "execution_count": 14,
   "metadata": {
    "scrolled": true,
    "slideshow": {
     "slide_type": "subslide"
    }
   },
   "outputs": [],
   "source": [
    "# Approach 1: Remove trailing commas manually\n",
    "\n",
    "# Read the file content\n",
    "f = open('examples/dk_cities/data/dk_cities.csv', 'r')\n",
    "original_lines = f.readlines()\n",
    "f.close()\n",
    "\n",
    "# Initialize empty list\n",
    "new_lines = []\n",
    "\n",
    "# For each line do the following:\n",
    "#    1. Remove the trailing \\n with .strip()\n",
    "#    2. Take all characters except the last one (the trailing comma)\n",
    "#    3. Add new \\n\n",
    "#    4. Add the corrected line to the new lines\n",
    "for line in original_lines:\n",
    "    new_lines.append(line.strip()[:-1] + '\\n')  # Steps 1-4 done in a single line\n",
    "\n",
    "f = open('examples/dk_cities/data/dk_cities_fixed.csv', 'w')\n",
    "f.writelines(new_lines)\n",
    "f.close()"
   ]
  },
  {
   "cell_type": "markdown",
   "metadata": {
    "slideshow": {
     "slide_type": "subslide"
    }
   },
   "source": [
    "Let's check that the new CSV is correctly read by pandas:"
   ]
  },
  {
   "cell_type": "code",
   "execution_count": 15,
   "metadata": {
    "slideshow": {
     "slide_type": "-"
    }
   },
   "outputs": [
    {
     "data": {
      "text/html": [
       "<div>\n",
       "<style scoped>\n",
       "    .dataframe tbody tr th:only-of-type {\n",
       "        vertical-align: middle;\n",
       "    }\n",
       "\n",
       "    .dataframe tbody tr th {\n",
       "        vertical-align: top;\n",
       "    }\n",
       "\n",
       "    .dataframe thead th {\n",
       "        text-align: right;\n",
       "    }\n",
       "</style>\n",
       "<table border=\"1\" class=\"dataframe\">\n",
       "  <thead>\n",
       "    <tr style=\"text-align: right;\">\n",
       "      <th></th>\n",
       "      <th>No.</th>\n",
       "      <th>City</th>\n",
       "      <th>2017</th>\n",
       "      <th>2016</th>\n",
       "      <th>2015</th>\n",
       "      <th>2014</th>\n",
       "      <th>2013</th>\n",
       "      <th>2012</th>\n",
       "      <th>2011</th>\n",
       "      <th>2010</th>\n",
       "      <th>2009</th>\n",
       "      <th>2008</th>\n",
       "      <th>2007</th>\n",
       "      <th>2006</th>\n",
       "    </tr>\n",
       "  </thead>\n",
       "  <tbody>\n",
       "    <tr>\n",
       "      <th>0</th>\n",
       "      <td>1</td>\n",
       "      <td>Copenhagen</td>\n",
       "      <td>1295686</td>\n",
       "      <td>1280371</td>\n",
       "      <td>1263698</td>\n",
       "      <td>1246611</td>\n",
       "      <td>1230728</td>\n",
       "      <td>1213822</td>\n",
       "      <td>1199224</td>\n",
       "      <td>1181239</td>\n",
       "      <td>1167569</td>\n",
       "      <td>1153615</td>\n",
       "      <td>1145804</td>\n",
       "      <td>1084885</td>\n",
       "    </tr>\n",
       "    <tr>\n",
       "      <th>1</th>\n",
       "      <td>2</td>\n",
       "      <td>Aarhus</td>\n",
       "      <td>269022</td>\n",
       "      <td>264716</td>\n",
       "      <td>261570</td>\n",
       "      <td>259754</td>\n",
       "      <td>256018</td>\n",
       "      <td>252213</td>\n",
       "      <td>249709</td>\n",
       "      <td>242914</td>\n",
       "      <td>239865</td>\n",
       "      <td>237551</td>\n",
       "      <td>228123</td>\n",
       "      <td>228674</td>\n",
       "    </tr>\n",
       "    <tr>\n",
       "      <th>2</th>\n",
       "      <td>3</td>\n",
       "      <td>Odense</td>\n",
       "      <td>176683</td>\n",
       "      <td>175245</td>\n",
       "      <td>173814</td>\n",
       "      <td>172512</td>\n",
       "      <td>170327</td>\n",
       "      <td>168798</td>\n",
       "      <td>167615</td>\n",
       "      <td>166305</td>\n",
       "      <td>158678</td>\n",
       "      <td>158163</td>\n",
       "      <td>158453</td>\n",
       "      <td>152060</td>\n",
       "    </tr>\n",
       "    <tr>\n",
       "      <th>3</th>\n",
       "      <td>4</td>\n",
       "      <td>Aalborg</td>\n",
       "      <td>113417</td>\n",
       "      <td>112194</td>\n",
       "      <td>110495</td>\n",
       "      <td>109092</td>\n",
       "      <td>106916</td>\n",
       "      <td>104855</td>\n",
       "      <td>103545</td>\n",
       "      <td>102312</td>\n",
       "      <td>101497</td>\n",
       "      <td>100873</td>\n",
       "      <td>100731</td>\n",
       "      <td>100617</td>\n",
       "    </tr>\n",
       "    <tr>\n",
       "      <th>4</th>\n",
       "      <td>5</td>\n",
       "      <td>Esbjerg</td>\n",
       "      <td>72261</td>\n",
       "      <td>72151</td>\n",
       "      <td>72060</td>\n",
       "      <td>71618</td>\n",
       "      <td>71491</td>\n",
       "      <td>71579</td>\n",
       "      <td>71576</td>\n",
       "      <td>71459</td>\n",
       "      <td>71025</td>\n",
       "      <td>70880</td>\n",
       "      <td>71129</td>\n",
       "      <td>71886</td>\n",
       "    </tr>\n",
       "  </tbody>\n",
       "</table>\n",
       "</div>"
      ],
      "text/plain": [
       "   No.        City     2017     2016     2015     2014     2013     2012  \\\n",
       "0    1  Copenhagen  1295686  1280371  1263698  1246611  1230728  1213822   \n",
       "1    2      Aarhus   269022   264716   261570   259754   256018   252213   \n",
       "2    3      Odense   176683   175245   173814   172512   170327   168798   \n",
       "3    4     Aalborg   113417   112194   110495   109092   106916   104855   \n",
       "4    5     Esbjerg    72261    72151    72060    71618    71491    71579   \n",
       "\n",
       "      2011     2010     2009     2008     2007     2006  \n",
       "0  1199224  1181239  1167569  1153615  1145804  1084885  \n",
       "1   249709   242914   239865   237551   228123   228674  \n",
       "2   167615   166305   158678   158163   158453   152060  \n",
       "3   103545   102312   101497   100873   100731   100617  \n",
       "4    71576    71459    71025    70880    71129    71886  "
      ]
     },
     "execution_count": 15,
     "metadata": {},
     "output_type": "execute_result"
    }
   ],
   "source": [
    "cities = pd.read_csv('examples/dk_cities/data/dk_cities_fixed.csv')\n",
    "\n",
    "cities.head()"
   ]
  },
  {
   "cell_type": "code",
   "execution_count": 16,
   "metadata": {
    "slideshow": {
     "slide_type": "subslide"
    }
   },
   "outputs": [
    {
     "data": {
      "text/html": [
       "<div>\n",
       "<style scoped>\n",
       "    .dataframe tbody tr th:only-of-type {\n",
       "        vertical-align: middle;\n",
       "    }\n",
       "\n",
       "    .dataframe tbody tr th {\n",
       "        vertical-align: top;\n",
       "    }\n",
       "\n",
       "    .dataframe thead th {\n",
       "        text-align: right;\n",
       "    }\n",
       "</style>\n",
       "<table border=\"1\" class=\"dataframe\">\n",
       "  <thead>\n",
       "    <tr style=\"text-align: right;\">\n",
       "      <th></th>\n",
       "      <th>No.</th>\n",
       "      <th>City</th>\n",
       "      <th>2017</th>\n",
       "      <th>2016</th>\n",
       "      <th>2015</th>\n",
       "      <th>2014</th>\n",
       "      <th>2013</th>\n",
       "      <th>2012</th>\n",
       "      <th>2011</th>\n",
       "      <th>2010</th>\n",
       "      <th>2009</th>\n",
       "      <th>2008</th>\n",
       "      <th>2007</th>\n",
       "      <th>2006</th>\n",
       "      <th>Unnamed: 14</th>\n",
       "    </tr>\n",
       "  </thead>\n",
       "  <tbody>\n",
       "    <tr>\n",
       "      <th>0</th>\n",
       "      <td>1</td>\n",
       "      <td>Copenhagen</td>\n",
       "      <td>1295686</td>\n",
       "      <td>1280371</td>\n",
       "      <td>1263698</td>\n",
       "      <td>1246611</td>\n",
       "      <td>1230728</td>\n",
       "      <td>1213822</td>\n",
       "      <td>1199224</td>\n",
       "      <td>1181239</td>\n",
       "      <td>1167569</td>\n",
       "      <td>1153615</td>\n",
       "      <td>1145804</td>\n",
       "      <td>1084885</td>\n",
       "      <td>NaN</td>\n",
       "    </tr>\n",
       "    <tr>\n",
       "      <th>1</th>\n",
       "      <td>2</td>\n",
       "      <td>Aarhus</td>\n",
       "      <td>269022</td>\n",
       "      <td>264716</td>\n",
       "      <td>261570</td>\n",
       "      <td>259754</td>\n",
       "      <td>256018</td>\n",
       "      <td>252213</td>\n",
       "      <td>249709</td>\n",
       "      <td>242914</td>\n",
       "      <td>239865</td>\n",
       "      <td>237551</td>\n",
       "      <td>228123</td>\n",
       "      <td>228674</td>\n",
       "      <td>NaN</td>\n",
       "    </tr>\n",
       "    <tr>\n",
       "      <th>2</th>\n",
       "      <td>3</td>\n",
       "      <td>Odense</td>\n",
       "      <td>176683</td>\n",
       "      <td>175245</td>\n",
       "      <td>173814</td>\n",
       "      <td>172512</td>\n",
       "      <td>170327</td>\n",
       "      <td>168798</td>\n",
       "      <td>167615</td>\n",
       "      <td>166305</td>\n",
       "      <td>158678</td>\n",
       "      <td>158163</td>\n",
       "      <td>158453</td>\n",
       "      <td>152060</td>\n",
       "      <td>NaN</td>\n",
       "    </tr>\n",
       "    <tr>\n",
       "      <th>3</th>\n",
       "      <td>4</td>\n",
       "      <td>Aalborg</td>\n",
       "      <td>113417</td>\n",
       "      <td>112194</td>\n",
       "      <td>110495</td>\n",
       "      <td>109092</td>\n",
       "      <td>106916</td>\n",
       "      <td>104855</td>\n",
       "      <td>103545</td>\n",
       "      <td>102312</td>\n",
       "      <td>101497</td>\n",
       "      <td>100873</td>\n",
       "      <td>100731</td>\n",
       "      <td>100617</td>\n",
       "      <td>NaN</td>\n",
       "    </tr>\n",
       "    <tr>\n",
       "      <th>4</th>\n",
       "      <td>5</td>\n",
       "      <td>Esbjerg</td>\n",
       "      <td>72261</td>\n",
       "      <td>72151</td>\n",
       "      <td>72060</td>\n",
       "      <td>71618</td>\n",
       "      <td>71491</td>\n",
       "      <td>71579</td>\n",
       "      <td>71576</td>\n",
       "      <td>71459</td>\n",
       "      <td>71025</td>\n",
       "      <td>70880</td>\n",
       "      <td>71129</td>\n",
       "      <td>71886</td>\n",
       "      <td>NaN</td>\n",
       "    </tr>\n",
       "  </tbody>\n",
       "</table>\n",
       "</div>"
      ],
      "text/plain": [
       "   No.        City     2017     2016     2015     2014     2013     2012  \\\n",
       "0    1  Copenhagen  1295686  1280371  1263698  1246611  1230728  1213822   \n",
       "1    2      Aarhus   269022   264716   261570   259754   256018   252213   \n",
       "2    3      Odense   176683   175245   173814   172512   170327   168798   \n",
       "3    4     Aalborg   113417   112194   110495   109092   106916   104855   \n",
       "4    5     Esbjerg    72261    72151    72060    71618    71491    71579   \n",
       "\n",
       "      2011     2010     2009     2008     2007     2006  Unnamed: 14  \n",
       "0  1199224  1181239  1167569  1153615  1145804  1084885          NaN  \n",
       "1   249709   242914   239865   237551   228123   228674          NaN  \n",
       "2   167615   166305   158678   158163   158453   152060          NaN  \n",
       "3   103545   102312   101497   100873   100731   100617          NaN  \n",
       "4    71576    71459    71025    70880    71129    71886          NaN  "
      ]
     },
     "execution_count": 16,
     "metadata": {},
     "output_type": "execute_result"
    }
   ],
   "source": [
    "# Approach 2: Using pandas\n",
    "cities = pd.read_csv('examples/dk_cities/data/dk_cities.csv')\n",
    "\n",
    "cities.head()"
   ]
  },
  {
   "cell_type": "code",
   "execution_count": 17,
   "metadata": {
    "slideshow": {
     "slide_type": "subslide"
    }
   },
   "outputs": [
    {
     "data": {
      "text/html": [
       "<div>\n",
       "<style scoped>\n",
       "    .dataframe tbody tr th:only-of-type {\n",
       "        vertical-align: middle;\n",
       "    }\n",
       "\n",
       "    .dataframe tbody tr th {\n",
       "        vertical-align: top;\n",
       "    }\n",
       "\n",
       "    .dataframe thead th {\n",
       "        text-align: right;\n",
       "    }\n",
       "</style>\n",
       "<table border=\"1\" class=\"dataframe\">\n",
       "  <thead>\n",
       "    <tr style=\"text-align: right;\">\n",
       "      <th></th>\n",
       "      <th>No.</th>\n",
       "      <th>City</th>\n",
       "      <th>2017</th>\n",
       "      <th>2016</th>\n",
       "      <th>2015</th>\n",
       "      <th>2014</th>\n",
       "      <th>2013</th>\n",
       "      <th>2012</th>\n",
       "      <th>2011</th>\n",
       "      <th>2010</th>\n",
       "      <th>2009</th>\n",
       "      <th>2008</th>\n",
       "      <th>2007</th>\n",
       "      <th>2006</th>\n",
       "    </tr>\n",
       "  </thead>\n",
       "  <tbody>\n",
       "    <tr>\n",
       "      <th>0</th>\n",
       "      <td>1</td>\n",
       "      <td>Copenhagen</td>\n",
       "      <td>1295686</td>\n",
       "      <td>1280371</td>\n",
       "      <td>1263698</td>\n",
       "      <td>1246611</td>\n",
       "      <td>1230728</td>\n",
       "      <td>1213822</td>\n",
       "      <td>1199224</td>\n",
       "      <td>1181239</td>\n",
       "      <td>1167569</td>\n",
       "      <td>1153615</td>\n",
       "      <td>1145804</td>\n",
       "      <td>1084885</td>\n",
       "    </tr>\n",
       "    <tr>\n",
       "      <th>1</th>\n",
       "      <td>2</td>\n",
       "      <td>Aarhus</td>\n",
       "      <td>269022</td>\n",
       "      <td>264716</td>\n",
       "      <td>261570</td>\n",
       "      <td>259754</td>\n",
       "      <td>256018</td>\n",
       "      <td>252213</td>\n",
       "      <td>249709</td>\n",
       "      <td>242914</td>\n",
       "      <td>239865</td>\n",
       "      <td>237551</td>\n",
       "      <td>228123</td>\n",
       "      <td>228674</td>\n",
       "    </tr>\n",
       "    <tr>\n",
       "      <th>2</th>\n",
       "      <td>3</td>\n",
       "      <td>Odense</td>\n",
       "      <td>176683</td>\n",
       "      <td>175245</td>\n",
       "      <td>173814</td>\n",
       "      <td>172512</td>\n",
       "      <td>170327</td>\n",
       "      <td>168798</td>\n",
       "      <td>167615</td>\n",
       "      <td>166305</td>\n",
       "      <td>158678</td>\n",
       "      <td>158163</td>\n",
       "      <td>158453</td>\n",
       "      <td>152060</td>\n",
       "    </tr>\n",
       "    <tr>\n",
       "      <th>3</th>\n",
       "      <td>4</td>\n",
       "      <td>Aalborg</td>\n",
       "      <td>113417</td>\n",
       "      <td>112194</td>\n",
       "      <td>110495</td>\n",
       "      <td>109092</td>\n",
       "      <td>106916</td>\n",
       "      <td>104855</td>\n",
       "      <td>103545</td>\n",
       "      <td>102312</td>\n",
       "      <td>101497</td>\n",
       "      <td>100873</td>\n",
       "      <td>100731</td>\n",
       "      <td>100617</td>\n",
       "    </tr>\n",
       "    <tr>\n",
       "      <th>4</th>\n",
       "      <td>5</td>\n",
       "      <td>Esbjerg</td>\n",
       "      <td>72261</td>\n",
       "      <td>72151</td>\n",
       "      <td>72060</td>\n",
       "      <td>71618</td>\n",
       "      <td>71491</td>\n",
       "      <td>71579</td>\n",
       "      <td>71576</td>\n",
       "      <td>71459</td>\n",
       "      <td>71025</td>\n",
       "      <td>70880</td>\n",
       "      <td>71129</td>\n",
       "      <td>71886</td>\n",
       "    </tr>\n",
       "  </tbody>\n",
       "</table>\n",
       "</div>"
      ],
      "text/plain": [
       "   No.        City     2017     2016     2015     2014     2013     2012  \\\n",
       "0    1  Copenhagen  1295686  1280371  1263698  1246611  1230728  1213822   \n",
       "1    2      Aarhus   269022   264716   261570   259754   256018   252213   \n",
       "2    3      Odense   176683   175245   173814   172512   170327   168798   \n",
       "3    4     Aalborg   113417   112194   110495   109092   106916   104855   \n",
       "4    5     Esbjerg    72261    72151    72060    71618    71491    71579   \n",
       "\n",
       "      2011     2010     2009     2008     2007     2006  \n",
       "0  1199224  1181239  1167569  1153615  1145804  1084885  \n",
       "1   249709   242914   239865   237551   228123   228674  \n",
       "2   167615   166305   158678   158163   158453   152060  \n",
       "3   103545   102312   101497   100873   100731   100617  \n",
       "4    71576    71459    71025    70880    71129    71886  "
      ]
     },
     "execution_count": 17,
     "metadata": {},
     "output_type": "execute_result"
    }
   ],
   "source": [
    "cities = cities.drop('Unnamed: 14', axis=1)\n",
    "cities.head()"
   ]
  },
  {
   "cell_type": "markdown",
   "metadata": {
    "slideshow": {
     "slide_type": "subslide"
    }
   },
   "source": [
    "### Manipulation of data frames\n",
    "\n",
    "A data frame has an index identifying its rows, and a header identifying its columns. When you read a data frame a default index is automatically added, which simply numbers the rows (starting from 0). You can specify a new index with `.set_index()`:"
   ]
  },
  {
   "cell_type": "code",
   "execution_count": 18,
   "metadata": {
    "slideshow": {
     "slide_type": "-"
    }
   },
   "outputs": [
    {
     "data": {
      "text/html": [
       "<div>\n",
       "<style scoped>\n",
       "    .dataframe tbody tr th:only-of-type {\n",
       "        vertical-align: middle;\n",
       "    }\n",
       "\n",
       "    .dataframe tbody tr th {\n",
       "        vertical-align: top;\n",
       "    }\n",
       "\n",
       "    .dataframe thead th {\n",
       "        text-align: right;\n",
       "    }\n",
       "</style>\n",
       "<table border=\"1\" class=\"dataframe\">\n",
       "  <thead>\n",
       "    <tr style=\"text-align: right;\">\n",
       "      <th></th>\n",
       "      <th>City</th>\n",
       "      <th>2017</th>\n",
       "      <th>2016</th>\n",
       "      <th>2015</th>\n",
       "      <th>2014</th>\n",
       "      <th>2013</th>\n",
       "      <th>2012</th>\n",
       "      <th>2011</th>\n",
       "      <th>2010</th>\n",
       "      <th>2009</th>\n",
       "      <th>2008</th>\n",
       "      <th>2007</th>\n",
       "      <th>2006</th>\n",
       "    </tr>\n",
       "    <tr>\n",
       "      <th>No.</th>\n",
       "      <th></th>\n",
       "      <th></th>\n",
       "      <th></th>\n",
       "      <th></th>\n",
       "      <th></th>\n",
       "      <th></th>\n",
       "      <th></th>\n",
       "      <th></th>\n",
       "      <th></th>\n",
       "      <th></th>\n",
       "      <th></th>\n",
       "      <th></th>\n",
       "      <th></th>\n",
       "    </tr>\n",
       "  </thead>\n",
       "  <tbody>\n",
       "    <tr>\n",
       "      <th>1</th>\n",
       "      <td>Copenhagen</td>\n",
       "      <td>1295686</td>\n",
       "      <td>1280371</td>\n",
       "      <td>1263698</td>\n",
       "      <td>1246611</td>\n",
       "      <td>1230728</td>\n",
       "      <td>1213822</td>\n",
       "      <td>1199224</td>\n",
       "      <td>1181239</td>\n",
       "      <td>1167569</td>\n",
       "      <td>1153615</td>\n",
       "      <td>1145804</td>\n",
       "      <td>1084885</td>\n",
       "    </tr>\n",
       "    <tr>\n",
       "      <th>2</th>\n",
       "      <td>Aarhus</td>\n",
       "      <td>269022</td>\n",
       "      <td>264716</td>\n",
       "      <td>261570</td>\n",
       "      <td>259754</td>\n",
       "      <td>256018</td>\n",
       "      <td>252213</td>\n",
       "      <td>249709</td>\n",
       "      <td>242914</td>\n",
       "      <td>239865</td>\n",
       "      <td>237551</td>\n",
       "      <td>228123</td>\n",
       "      <td>228674</td>\n",
       "    </tr>\n",
       "    <tr>\n",
       "      <th>3</th>\n",
       "      <td>Odense</td>\n",
       "      <td>176683</td>\n",
       "      <td>175245</td>\n",
       "      <td>173814</td>\n",
       "      <td>172512</td>\n",
       "      <td>170327</td>\n",
       "      <td>168798</td>\n",
       "      <td>167615</td>\n",
       "      <td>166305</td>\n",
       "      <td>158678</td>\n",
       "      <td>158163</td>\n",
       "      <td>158453</td>\n",
       "      <td>152060</td>\n",
       "    </tr>\n",
       "    <tr>\n",
       "      <th>4</th>\n",
       "      <td>Aalborg</td>\n",
       "      <td>113417</td>\n",
       "      <td>112194</td>\n",
       "      <td>110495</td>\n",
       "      <td>109092</td>\n",
       "      <td>106916</td>\n",
       "      <td>104855</td>\n",
       "      <td>103545</td>\n",
       "      <td>102312</td>\n",
       "      <td>101497</td>\n",
       "      <td>100873</td>\n",
       "      <td>100731</td>\n",
       "      <td>100617</td>\n",
       "    </tr>\n",
       "    <tr>\n",
       "      <th>5</th>\n",
       "      <td>Esbjerg</td>\n",
       "      <td>72261</td>\n",
       "      <td>72151</td>\n",
       "      <td>72060</td>\n",
       "      <td>71618</td>\n",
       "      <td>71491</td>\n",
       "      <td>71579</td>\n",
       "      <td>71576</td>\n",
       "      <td>71459</td>\n",
       "      <td>71025</td>\n",
       "      <td>70880</td>\n",
       "      <td>71129</td>\n",
       "      <td>71886</td>\n",
       "    </tr>\n",
       "  </tbody>\n",
       "</table>\n",
       "</div>"
      ],
      "text/plain": [
       "           City     2017     2016     2015     2014     2013     2012  \\\n",
       "No.                                                                     \n",
       "1    Copenhagen  1295686  1280371  1263698  1246611  1230728  1213822   \n",
       "2        Aarhus   269022   264716   261570   259754   256018   252213   \n",
       "3        Odense   176683   175245   173814   172512   170327   168798   \n",
       "4       Aalborg   113417   112194   110495   109092   106916   104855   \n",
       "5       Esbjerg    72261    72151    72060    71618    71491    71579   \n",
       "\n",
       "        2011     2010     2009     2008     2007     2006  \n",
       "No.                                                        \n",
       "1    1199224  1181239  1167569  1153615  1145804  1084885  \n",
       "2     249709   242914   239865   237551   228123   228674  \n",
       "3     167615   166305   158678   158163   158453   152060  \n",
       "4     103545   102312   101497   100873   100731   100617  \n",
       "5      71576    71459    71025    70880    71129    71886  "
      ]
     },
     "execution_count": 18,
     "metadata": {},
     "output_type": "execute_result"
    }
   ],
   "source": [
    "cities = cities.set_index('No.')\n",
    "cities.head()"
   ]
  },
  {
   "cell_type": "markdown",
   "metadata": {
    "slideshow": {
     "slide_type": "subslide"
    }
   },
   "source": [
    "You can always reset the index, in which case the index will appear as one of the variables again:"
   ]
  },
  {
   "cell_type": "code",
   "execution_count": 19,
   "metadata": {
    "slideshow": {
     "slide_type": "-"
    }
   },
   "outputs": [
    {
     "data": {
      "text/html": [
       "<div>\n",
       "<style scoped>\n",
       "    .dataframe tbody tr th:only-of-type {\n",
       "        vertical-align: middle;\n",
       "    }\n",
       "\n",
       "    .dataframe tbody tr th {\n",
       "        vertical-align: top;\n",
       "    }\n",
       "\n",
       "    .dataframe thead th {\n",
       "        text-align: right;\n",
       "    }\n",
       "</style>\n",
       "<table border=\"1\" class=\"dataframe\">\n",
       "  <thead>\n",
       "    <tr style=\"text-align: right;\">\n",
       "      <th></th>\n",
       "      <th>No.</th>\n",
       "      <th>City</th>\n",
       "      <th>2017</th>\n",
       "      <th>2016</th>\n",
       "      <th>2015</th>\n",
       "      <th>2014</th>\n",
       "      <th>2013</th>\n",
       "      <th>2012</th>\n",
       "      <th>2011</th>\n",
       "      <th>2010</th>\n",
       "      <th>2009</th>\n",
       "      <th>2008</th>\n",
       "      <th>2007</th>\n",
       "      <th>2006</th>\n",
       "    </tr>\n",
       "  </thead>\n",
       "  <tbody>\n",
       "    <tr>\n",
       "      <th>0</th>\n",
       "      <td>1</td>\n",
       "      <td>Copenhagen</td>\n",
       "      <td>1295686</td>\n",
       "      <td>1280371</td>\n",
       "      <td>1263698</td>\n",
       "      <td>1246611</td>\n",
       "      <td>1230728</td>\n",
       "      <td>1213822</td>\n",
       "      <td>1199224</td>\n",
       "      <td>1181239</td>\n",
       "      <td>1167569</td>\n",
       "      <td>1153615</td>\n",
       "      <td>1145804</td>\n",
       "      <td>1084885</td>\n",
       "    </tr>\n",
       "    <tr>\n",
       "      <th>1</th>\n",
       "      <td>2</td>\n",
       "      <td>Aarhus</td>\n",
       "      <td>269022</td>\n",
       "      <td>264716</td>\n",
       "      <td>261570</td>\n",
       "      <td>259754</td>\n",
       "      <td>256018</td>\n",
       "      <td>252213</td>\n",
       "      <td>249709</td>\n",
       "      <td>242914</td>\n",
       "      <td>239865</td>\n",
       "      <td>237551</td>\n",
       "      <td>228123</td>\n",
       "      <td>228674</td>\n",
       "    </tr>\n",
       "    <tr>\n",
       "      <th>2</th>\n",
       "      <td>3</td>\n",
       "      <td>Odense</td>\n",
       "      <td>176683</td>\n",
       "      <td>175245</td>\n",
       "      <td>173814</td>\n",
       "      <td>172512</td>\n",
       "      <td>170327</td>\n",
       "      <td>168798</td>\n",
       "      <td>167615</td>\n",
       "      <td>166305</td>\n",
       "      <td>158678</td>\n",
       "      <td>158163</td>\n",
       "      <td>158453</td>\n",
       "      <td>152060</td>\n",
       "    </tr>\n",
       "    <tr>\n",
       "      <th>3</th>\n",
       "      <td>4</td>\n",
       "      <td>Aalborg</td>\n",
       "      <td>113417</td>\n",
       "      <td>112194</td>\n",
       "      <td>110495</td>\n",
       "      <td>109092</td>\n",
       "      <td>106916</td>\n",
       "      <td>104855</td>\n",
       "      <td>103545</td>\n",
       "      <td>102312</td>\n",
       "      <td>101497</td>\n",
       "      <td>100873</td>\n",
       "      <td>100731</td>\n",
       "      <td>100617</td>\n",
       "    </tr>\n",
       "    <tr>\n",
       "      <th>4</th>\n",
       "      <td>5</td>\n",
       "      <td>Esbjerg</td>\n",
       "      <td>72261</td>\n",
       "      <td>72151</td>\n",
       "      <td>72060</td>\n",
       "      <td>71618</td>\n",
       "      <td>71491</td>\n",
       "      <td>71579</td>\n",
       "      <td>71576</td>\n",
       "      <td>71459</td>\n",
       "      <td>71025</td>\n",
       "      <td>70880</td>\n",
       "      <td>71129</td>\n",
       "      <td>71886</td>\n",
       "    </tr>\n",
       "  </tbody>\n",
       "</table>\n",
       "</div>"
      ],
      "text/plain": [
       "   No.        City     2017     2016     2015     2014     2013     2012  \\\n",
       "0    1  Copenhagen  1295686  1280371  1263698  1246611  1230728  1213822   \n",
       "1    2      Aarhus   269022   264716   261570   259754   256018   252213   \n",
       "2    3      Odense   176683   175245   173814   172512   170327   168798   \n",
       "3    4     Aalborg   113417   112194   110495   109092   106916   104855   \n",
       "4    5     Esbjerg    72261    72151    72060    71618    71491    71579   \n",
       "\n",
       "      2011     2010     2009     2008     2007     2006  \n",
       "0  1199224  1181239  1167569  1153615  1145804  1084885  \n",
       "1   249709   242914   239865   237551   228123   228674  \n",
       "2   167615   166305   158678   158163   158453   152060  \n",
       "3   103545   102312   101497   100873   100731   100617  \n",
       "4    71576    71459    71025    70880    71129    71886  "
      ]
     },
     "execution_count": 19,
     "metadata": {},
     "output_type": "execute_result"
    }
   ],
   "source": [
    "cities = cities.reset_index()\n",
    "cities.head()"
   ]
  },
  {
   "cell_type": "markdown",
   "metadata": {
    "slideshow": {
     "slide_type": "subslide"
    }
   },
   "source": [
    "Let's try use the variable `City` as the index:"
   ]
  },
  {
   "cell_type": "code",
   "execution_count": 20,
   "metadata": {
    "slideshow": {
     "slide_type": "-"
    }
   },
   "outputs": [
    {
     "data": {
      "text/html": [
       "<div>\n",
       "<style scoped>\n",
       "    .dataframe tbody tr th:only-of-type {\n",
       "        vertical-align: middle;\n",
       "    }\n",
       "\n",
       "    .dataframe tbody tr th {\n",
       "        vertical-align: top;\n",
       "    }\n",
       "\n",
       "    .dataframe thead th {\n",
       "        text-align: right;\n",
       "    }\n",
       "</style>\n",
       "<table border=\"1\" class=\"dataframe\">\n",
       "  <thead>\n",
       "    <tr style=\"text-align: right;\">\n",
       "      <th></th>\n",
       "      <th>No.</th>\n",
       "      <th>2017</th>\n",
       "      <th>2016</th>\n",
       "      <th>2015</th>\n",
       "      <th>2014</th>\n",
       "      <th>2013</th>\n",
       "      <th>2012</th>\n",
       "      <th>2011</th>\n",
       "      <th>2010</th>\n",
       "      <th>2009</th>\n",
       "      <th>2008</th>\n",
       "      <th>2007</th>\n",
       "      <th>2006</th>\n",
       "    </tr>\n",
       "    <tr>\n",
       "      <th>City</th>\n",
       "      <th></th>\n",
       "      <th></th>\n",
       "      <th></th>\n",
       "      <th></th>\n",
       "      <th></th>\n",
       "      <th></th>\n",
       "      <th></th>\n",
       "      <th></th>\n",
       "      <th></th>\n",
       "      <th></th>\n",
       "      <th></th>\n",
       "      <th></th>\n",
       "      <th></th>\n",
       "    </tr>\n",
       "  </thead>\n",
       "  <tbody>\n",
       "    <tr>\n",
       "      <th>Copenhagen</th>\n",
       "      <td>1</td>\n",
       "      <td>1295686</td>\n",
       "      <td>1280371</td>\n",
       "      <td>1263698</td>\n",
       "      <td>1246611</td>\n",
       "      <td>1230728</td>\n",
       "      <td>1213822</td>\n",
       "      <td>1199224</td>\n",
       "      <td>1181239</td>\n",
       "      <td>1167569</td>\n",
       "      <td>1153615</td>\n",
       "      <td>1145804</td>\n",
       "      <td>1084885</td>\n",
       "    </tr>\n",
       "    <tr>\n",
       "      <th>Aarhus</th>\n",
       "      <td>2</td>\n",
       "      <td>269022</td>\n",
       "      <td>264716</td>\n",
       "      <td>261570</td>\n",
       "      <td>259754</td>\n",
       "      <td>256018</td>\n",
       "      <td>252213</td>\n",
       "      <td>249709</td>\n",
       "      <td>242914</td>\n",
       "      <td>239865</td>\n",
       "      <td>237551</td>\n",
       "      <td>228123</td>\n",
       "      <td>228674</td>\n",
       "    </tr>\n",
       "    <tr>\n",
       "      <th>Odense</th>\n",
       "      <td>3</td>\n",
       "      <td>176683</td>\n",
       "      <td>175245</td>\n",
       "      <td>173814</td>\n",
       "      <td>172512</td>\n",
       "      <td>170327</td>\n",
       "      <td>168798</td>\n",
       "      <td>167615</td>\n",
       "      <td>166305</td>\n",
       "      <td>158678</td>\n",
       "      <td>158163</td>\n",
       "      <td>158453</td>\n",
       "      <td>152060</td>\n",
       "    </tr>\n",
       "    <tr>\n",
       "      <th>Aalborg</th>\n",
       "      <td>4</td>\n",
       "      <td>113417</td>\n",
       "      <td>112194</td>\n",
       "      <td>110495</td>\n",
       "      <td>109092</td>\n",
       "      <td>106916</td>\n",
       "      <td>104855</td>\n",
       "      <td>103545</td>\n",
       "      <td>102312</td>\n",
       "      <td>101497</td>\n",
       "      <td>100873</td>\n",
       "      <td>100731</td>\n",
       "      <td>100617</td>\n",
       "    </tr>\n",
       "    <tr>\n",
       "      <th>Esbjerg</th>\n",
       "      <td>5</td>\n",
       "      <td>72261</td>\n",
       "      <td>72151</td>\n",
       "      <td>72060</td>\n",
       "      <td>71618</td>\n",
       "      <td>71491</td>\n",
       "      <td>71579</td>\n",
       "      <td>71576</td>\n",
       "      <td>71459</td>\n",
       "      <td>71025</td>\n",
       "      <td>70880</td>\n",
       "      <td>71129</td>\n",
       "      <td>71886</td>\n",
       "    </tr>\n",
       "  </tbody>\n",
       "</table>\n",
       "</div>"
      ],
      "text/plain": [
       "            No.     2017     2016     2015     2014     2013     2012  \\\n",
       "City                                                                    \n",
       "Copenhagen    1  1295686  1280371  1263698  1246611  1230728  1213822   \n",
       "Aarhus        2   269022   264716   261570   259754   256018   252213   \n",
       "Odense        3   176683   175245   173814   172512   170327   168798   \n",
       "Aalborg       4   113417   112194   110495   109092   106916   104855   \n",
       "Esbjerg       5    72261    72151    72060    71618    71491    71579   \n",
       "\n",
       "               2011     2010     2009     2008     2007     2006  \n",
       "City                                                              \n",
       "Copenhagen  1199224  1181239  1167569  1153615  1145804  1084885  \n",
       "Aarhus       249709   242914   239865   237551   228123   228674  \n",
       "Odense       167615   166305   158678   158163   158453   152060  \n",
       "Aalborg      103545   102312   101497   100873   100731   100617  \n",
       "Esbjerg       71576    71459    71025    70880    71129    71886  "
      ]
     },
     "execution_count": 20,
     "metadata": {},
     "output_type": "execute_result"
    }
   ],
   "source": [
    "cities = cities.set_index('City')\n",
    "cities.head()"
   ]
  },
  {
   "cell_type": "code",
   "execution_count": 21,
   "metadata": {
    "slideshow": {
     "slide_type": "subslide"
    }
   },
   "outputs": [
    {
     "data": {
      "text/plain": [
       "No.          3\n",
       "2017    176683\n",
       "2016    175245\n",
       "2015    173814\n",
       "2014    172512\n",
       "2013    170327\n",
       "2012    168798\n",
       "2011    167615\n",
       "2010    166305\n",
       "2009    158678\n",
       "2008    158163\n",
       "2007    158453\n",
       "2006    152060\n",
       "Name: Odense, dtype: int64"
      ]
     },
     "execution_count": 21,
     "metadata": {},
     "output_type": "execute_result"
    }
   ],
   "source": [
    "# Select a specific row by index name\n",
    "cities.loc['Odense']"
   ]
  },
  {
   "cell_type": "code",
   "execution_count": 22,
   "metadata": {
    "scrolled": true,
    "slideshow": {
     "slide_type": "subslide"
    }
   },
   "outputs": [
    {
     "data": {
      "text/plain": [
       "City\n",
       "Copenhagen            1295686\n",
       "Aarhus                 269022\n",
       "Odense                 176683\n",
       "Aalborg                113417\n",
       "Esbjerg                 72261\n",
       "Randers                 62563\n",
       "Kolding                 60300\n",
       "Horsens                 58480\n",
       "Vejle                   55876\n",
       "Roskilde                50393\n",
       "Herning                 49229\n",
       "Hørsholm                47294\n",
       "Helsingør               47123\n",
       "Silkeborg               44333\n",
       "Næstved                 43234\n",
       "Fredericia              40461\n",
       "Viborg                  40371\n",
       "Køge                    36864\n",
       "Holstebro               35867\n",
       "Taastrup                34154\n",
       "Slagelse                33433\n",
       "Hillerød                32278\n",
       "Holbæk                  28134\n",
       "Sønderborg              27826\n",
       "Svendborg               27281\n",
       "Hjørring                25764\n",
       "Frederikshavn           23501\n",
       "Nørresundby             22600\n",
       "Ringsted                22490\n",
       "Haderslev               21955\n",
       "                       ...   \n",
       "Højslev Stationsby       2820\n",
       "Vestbjerg                2810\n",
       "Tinglev                  2803\n",
       "Ullerslev                2788\n",
       "Frejlev                  2779\n",
       "Aalestrup                2775\n",
       "Søften                   2757\n",
       "Tørring                  2750\n",
       "Hurup                    2745\n",
       "Rødding                  2735\n",
       "Brovst                   2733\n",
       "Tjæreborg                2711\n",
       "Nordby                   2707\n",
       "Skævinge                 2631\n",
       "Høruphav                 2625\n",
       "Kibæk                    2624\n",
       "Hårlev                   2588\n",
       "Gundsømagle              2584\n",
       "Gram                     2562\n",
       "Kås                      2558\n",
       "Liseleje                 2556\n",
       "Vester Hassing           2554\n",
       "Guderup                  2531\n",
       "Stoholm                  2531\n",
       "Forlev                   2528\n",
       "Starup                   2517\n",
       "Hørve                    2514\n",
       "Nyråd                    2514\n",
       "Arden                    2510\n",
       "Mariager                 2490\n",
       "Name: 2017, Length: 243, dtype: int64"
      ]
     },
     "execution_count": 22,
     "metadata": {},
     "output_type": "execute_result"
    }
   ],
   "source": [
    "# Select a specific variable\n",
    "cities['2017']"
   ]
  },
  {
   "cell_type": "code",
   "execution_count": 23,
   "metadata": {
    "slideshow": {
     "slide_type": "subslide"
    }
   },
   "outputs": [
    {
     "data": {
      "text/html": [
       "<div>\n",
       "<style scoped>\n",
       "    .dataframe tbody tr th:only-of-type {\n",
       "        vertical-align: middle;\n",
       "    }\n",
       "\n",
       "    .dataframe tbody tr th {\n",
       "        vertical-align: top;\n",
       "    }\n",
       "\n",
       "    .dataframe thead th {\n",
       "        text-align: right;\n",
       "    }\n",
       "</style>\n",
       "<table border=\"1\" class=\"dataframe\">\n",
       "  <thead>\n",
       "    <tr style=\"text-align: right;\">\n",
       "      <th></th>\n",
       "      <th>No.</th>\n",
       "      <th>2017</th>\n",
       "      <th>2016</th>\n",
       "      <th>2015</th>\n",
       "      <th>2014</th>\n",
       "      <th>2013</th>\n",
       "      <th>2012</th>\n",
       "      <th>2011</th>\n",
       "      <th>2010</th>\n",
       "      <th>2009</th>\n",
       "      <th>2008</th>\n",
       "      <th>2007</th>\n",
       "      <th>2006</th>\n",
       "    </tr>\n",
       "    <tr>\n",
       "      <th>City</th>\n",
       "      <th></th>\n",
       "      <th></th>\n",
       "      <th></th>\n",
       "      <th></th>\n",
       "      <th></th>\n",
       "      <th></th>\n",
       "      <th></th>\n",
       "      <th></th>\n",
       "      <th></th>\n",
       "      <th></th>\n",
       "      <th></th>\n",
       "      <th></th>\n",
       "      <th></th>\n",
       "    </tr>\n",
       "  </thead>\n",
       "  <tbody>\n",
       "    <tr>\n",
       "      <th>Copenhagen</th>\n",
       "      <td>1</td>\n",
       "      <td>1295686</td>\n",
       "      <td>1280371</td>\n",
       "      <td>1263698</td>\n",
       "      <td>1246611</td>\n",
       "      <td>1230728</td>\n",
       "      <td>1213822</td>\n",
       "      <td>1199224</td>\n",
       "      <td>1181239</td>\n",
       "      <td>1167569</td>\n",
       "      <td>1153615</td>\n",
       "      <td>1145804</td>\n",
       "      <td>1084885</td>\n",
       "    </tr>\n",
       "    <tr>\n",
       "      <th>Aarhus</th>\n",
       "      <td>2</td>\n",
       "      <td>269022</td>\n",
       "      <td>264716</td>\n",
       "      <td>261570</td>\n",
       "      <td>259754</td>\n",
       "      <td>256018</td>\n",
       "      <td>252213</td>\n",
       "      <td>249709</td>\n",
       "      <td>242914</td>\n",
       "      <td>239865</td>\n",
       "      <td>237551</td>\n",
       "      <td>228123</td>\n",
       "      <td>228674</td>\n",
       "    </tr>\n",
       "    <tr>\n",
       "      <th>Odense</th>\n",
       "      <td>3</td>\n",
       "      <td>176683</td>\n",
       "      <td>175245</td>\n",
       "      <td>173814</td>\n",
       "      <td>172512</td>\n",
       "      <td>170327</td>\n",
       "      <td>168798</td>\n",
       "      <td>167615</td>\n",
       "      <td>166305</td>\n",
       "      <td>158678</td>\n",
       "      <td>158163</td>\n",
       "      <td>158453</td>\n",
       "      <td>152060</td>\n",
       "    </tr>\n",
       "  </tbody>\n",
       "</table>\n",
       "</div>"
      ],
      "text/plain": [
       "            No.     2017     2016     2015     2014     2013     2012  \\\n",
       "City                                                                    \n",
       "Copenhagen    1  1295686  1280371  1263698  1246611  1230728  1213822   \n",
       "Aarhus        2   269022   264716   261570   259754   256018   252213   \n",
       "Odense        3   176683   175245   173814   172512   170327   168798   \n",
       "\n",
       "               2011     2010     2009     2008     2007     2006  \n",
       "City                                                              \n",
       "Copenhagen  1199224  1181239  1167569  1153615  1145804  1084885  \n",
       "Aarhus       249709   242914   239865   237551   228123   228674  \n",
       "Odense       167615   166305   158678   158163   158453   152060  "
      ]
     },
     "execution_count": 23,
     "metadata": {},
     "output_type": "execute_result"
    }
   ],
   "source": [
    "# Select a range of rows\n",
    "cities.loc['Copenhagen':'Odense']"
   ]
  },
  {
   "cell_type": "code",
   "execution_count": 24,
   "metadata": {
    "slideshow": {
     "slide_type": "subslide"
    }
   },
   "outputs": [
    {
     "data": {
      "text/html": [
       "<div>\n",
       "<style scoped>\n",
       "    .dataframe tbody tr th:only-of-type {\n",
       "        vertical-align: middle;\n",
       "    }\n",
       "\n",
       "    .dataframe tbody tr th {\n",
       "        vertical-align: top;\n",
       "    }\n",
       "\n",
       "    .dataframe thead th {\n",
       "        text-align: right;\n",
       "    }\n",
       "</style>\n",
       "<table border=\"1\" class=\"dataframe\">\n",
       "  <thead>\n",
       "    <tr style=\"text-align: right;\">\n",
       "      <th></th>\n",
       "      <th>2017</th>\n",
       "      <th>2007</th>\n",
       "    </tr>\n",
       "    <tr>\n",
       "      <th>City</th>\n",
       "      <th></th>\n",
       "      <th></th>\n",
       "    </tr>\n",
       "  </thead>\n",
       "  <tbody>\n",
       "    <tr>\n",
       "      <th>Copenhagen</th>\n",
       "      <td>1295686</td>\n",
       "      <td>1145804</td>\n",
       "    </tr>\n",
       "    <tr>\n",
       "      <th>Aarhus</th>\n",
       "      <td>269022</td>\n",
       "      <td>228123</td>\n",
       "    </tr>\n",
       "    <tr>\n",
       "      <th>Odense</th>\n",
       "      <td>176683</td>\n",
       "      <td>158453</td>\n",
       "    </tr>\n",
       "    <tr>\n",
       "      <th>Aalborg</th>\n",
       "      <td>113417</td>\n",
       "      <td>100731</td>\n",
       "    </tr>\n",
       "    <tr>\n",
       "      <th>Esbjerg</th>\n",
       "      <td>72261</td>\n",
       "      <td>71129</td>\n",
       "    </tr>\n",
       "    <tr>\n",
       "      <th>Randers</th>\n",
       "      <td>62563</td>\n",
       "      <td>59391</td>\n",
       "    </tr>\n",
       "    <tr>\n",
       "      <th>Kolding</th>\n",
       "      <td>60300</td>\n",
       "      <td>55407</td>\n",
       "    </tr>\n",
       "    <tr>\n",
       "      <th>Horsens</th>\n",
       "      <td>58480</td>\n",
       "      <td>51112</td>\n",
       "    </tr>\n",
       "    <tr>\n",
       "      <th>Vejle</th>\n",
       "      <td>55876</td>\n",
       "      <td>49943</td>\n",
       "    </tr>\n",
       "    <tr>\n",
       "      <th>Roskilde</th>\n",
       "      <td>50393</td>\n",
       "      <td>46071</td>\n",
       "    </tr>\n",
       "    <tr>\n",
       "      <th>Herning</th>\n",
       "      <td>49229</td>\n",
       "      <td>44481</td>\n",
       "    </tr>\n",
       "    <tr>\n",
       "      <th>Hørsholm</th>\n",
       "      <td>47294</td>\n",
       "      <td>33293</td>\n",
       "    </tr>\n",
       "    <tr>\n",
       "      <th>Helsingør</th>\n",
       "      <td>47123</td>\n",
       "      <td>34339</td>\n",
       "    </tr>\n",
       "    <tr>\n",
       "      <th>Silkeborg</th>\n",
       "      <td>44333</td>\n",
       "      <td>41619</td>\n",
       "    </tr>\n",
       "    <tr>\n",
       "      <th>Næstved</th>\n",
       "      <td>43234</td>\n",
       "      <td>41510</td>\n",
       "    </tr>\n",
       "    <tr>\n",
       "      <th>Fredericia</th>\n",
       "      <td>40461</td>\n",
       "      <td>39356</td>\n",
       "    </tr>\n",
       "    <tr>\n",
       "      <th>Viborg</th>\n",
       "      <td>40371</td>\n",
       "      <td>34522</td>\n",
       "    </tr>\n",
       "    <tr>\n",
       "      <th>Køge</th>\n",
       "      <td>36864</td>\n",
       "      <td>34735</td>\n",
       "    </tr>\n",
       "    <tr>\n",
       "      <th>Holstebro</th>\n",
       "      <td>35867</td>\n",
       "      <td>33548</td>\n",
       "    </tr>\n",
       "    <tr>\n",
       "      <th>Taastrup</th>\n",
       "      <td>34154</td>\n",
       "      <td>31461</td>\n",
       "    </tr>\n",
       "    <tr>\n",
       "      <th>Slagelse</th>\n",
       "      <td>33433</td>\n",
       "      <td>31914</td>\n",
       "    </tr>\n",
       "    <tr>\n",
       "      <th>Hillerød</th>\n",
       "      <td>32278</td>\n",
       "      <td>29382</td>\n",
       "    </tr>\n",
       "    <tr>\n",
       "      <th>Holbæk</th>\n",
       "      <td>28134</td>\n",
       "      <td>25987</td>\n",
       "    </tr>\n",
       "    <tr>\n",
       "      <th>Sønderborg</th>\n",
       "      <td>27826</td>\n",
       "      <td>27371</td>\n",
       "    </tr>\n",
       "    <tr>\n",
       "      <th>Svendborg</th>\n",
       "      <td>27281</td>\n",
       "      <td>27263</td>\n",
       "    </tr>\n",
       "    <tr>\n",
       "      <th>Hjørring</th>\n",
       "      <td>25764</td>\n",
       "      <td>24729</td>\n",
       "    </tr>\n",
       "    <tr>\n",
       "      <th>Frederikshavn</th>\n",
       "      <td>23501</td>\n",
       "      <td>23499</td>\n",
       "    </tr>\n",
       "    <tr>\n",
       "      <th>Nørresundby</th>\n",
       "      <td>22600</td>\n",
       "      <td>20879</td>\n",
       "    </tr>\n",
       "    <tr>\n",
       "      <th>Ringsted</th>\n",
       "      <td>22490</td>\n",
       "      <td>19492</td>\n",
       "    </tr>\n",
       "    <tr>\n",
       "      <th>Haderslev</th>\n",
       "      <td>21955</td>\n",
       "      <td>21182</td>\n",
       "    </tr>\n",
       "    <tr>\n",
       "      <th>...</th>\n",
       "      <td>...</td>\n",
       "      <td>...</td>\n",
       "    </tr>\n",
       "    <tr>\n",
       "      <th>Højslev Stationsby</th>\n",
       "      <td>2820</td>\n",
       "      <td>2620</td>\n",
       "    </tr>\n",
       "    <tr>\n",
       "      <th>Vestbjerg</th>\n",
       "      <td>2810</td>\n",
       "      <td>2284</td>\n",
       "    </tr>\n",
       "    <tr>\n",
       "      <th>Tinglev</th>\n",
       "      <td>2803</td>\n",
       "      <td>2837</td>\n",
       "    </tr>\n",
       "    <tr>\n",
       "      <th>Ullerslev</th>\n",
       "      <td>2788</td>\n",
       "      <td>2779</td>\n",
       "    </tr>\n",
       "    <tr>\n",
       "      <th>Frejlev</th>\n",
       "      <td>2779</td>\n",
       "      <td>2544</td>\n",
       "    </tr>\n",
       "    <tr>\n",
       "      <th>Aalestrup</th>\n",
       "      <td>2775</td>\n",
       "      <td>2718</td>\n",
       "    </tr>\n",
       "    <tr>\n",
       "      <th>Søften</th>\n",
       "      <td>2757</td>\n",
       "      <td>2185</td>\n",
       "    </tr>\n",
       "    <tr>\n",
       "      <th>Tørring</th>\n",
       "      <td>2750</td>\n",
       "      <td>2363</td>\n",
       "    </tr>\n",
       "    <tr>\n",
       "      <th>Hurup</th>\n",
       "      <td>2745</td>\n",
       "      <td>2765</td>\n",
       "    </tr>\n",
       "    <tr>\n",
       "      <th>Rødding</th>\n",
       "      <td>2735</td>\n",
       "      <td>2635</td>\n",
       "    </tr>\n",
       "    <tr>\n",
       "      <th>Brovst</th>\n",
       "      <td>2733</td>\n",
       "      <td>2777</td>\n",
       "    </tr>\n",
       "    <tr>\n",
       "      <th>Tjæreborg</th>\n",
       "      <td>2711</td>\n",
       "      <td>2441</td>\n",
       "    </tr>\n",
       "    <tr>\n",
       "      <th>Nordby</th>\n",
       "      <td>2707</td>\n",
       "      <td>2563</td>\n",
       "    </tr>\n",
       "    <tr>\n",
       "      <th>Skævinge</th>\n",
       "      <td>2631</td>\n",
       "      <td>2061</td>\n",
       "    </tr>\n",
       "    <tr>\n",
       "      <th>Høruphav</th>\n",
       "      <td>2625</td>\n",
       "      <td>2547</td>\n",
       "    </tr>\n",
       "    <tr>\n",
       "      <th>Kibæk</th>\n",
       "      <td>2624</td>\n",
       "      <td>2652</td>\n",
       "    </tr>\n",
       "    <tr>\n",
       "      <th>Hårlev</th>\n",
       "      <td>2588</td>\n",
       "      <td>2523</td>\n",
       "    </tr>\n",
       "    <tr>\n",
       "      <th>Gundsømagle</th>\n",
       "      <td>2584</td>\n",
       "      <td>2264</td>\n",
       "    </tr>\n",
       "    <tr>\n",
       "      <th>Gram</th>\n",
       "      <td>2562</td>\n",
       "      <td>2537</td>\n",
       "    </tr>\n",
       "    <tr>\n",
       "      <th>Kås</th>\n",
       "      <td>2558</td>\n",
       "      <td>2073</td>\n",
       "    </tr>\n",
       "    <tr>\n",
       "      <th>Liseleje</th>\n",
       "      <td>2556</td>\n",
       "      <td>2480</td>\n",
       "    </tr>\n",
       "    <tr>\n",
       "      <th>Vester Hassing</th>\n",
       "      <td>2554</td>\n",
       "      <td>2420</td>\n",
       "    </tr>\n",
       "    <tr>\n",
       "      <th>Guderup</th>\n",
       "      <td>2531</td>\n",
       "      <td>2629</td>\n",
       "    </tr>\n",
       "    <tr>\n",
       "      <th>Stoholm</th>\n",
       "      <td>2531</td>\n",
       "      <td>2332</td>\n",
       "    </tr>\n",
       "    <tr>\n",
       "      <th>Forlev</th>\n",
       "      <td>2528</td>\n",
       "      <td>2309</td>\n",
       "    </tr>\n",
       "    <tr>\n",
       "      <th>Starup</th>\n",
       "      <td>2517</td>\n",
       "      <td>2243</td>\n",
       "    </tr>\n",
       "    <tr>\n",
       "      <th>Hørve</th>\n",
       "      <td>2514</td>\n",
       "      <td>2264</td>\n",
       "    </tr>\n",
       "    <tr>\n",
       "      <th>Nyråd</th>\n",
       "      <td>2514</td>\n",
       "      <td>2373</td>\n",
       "    </tr>\n",
       "    <tr>\n",
       "      <th>Arden</th>\n",
       "      <td>2510</td>\n",
       "      <td>2470</td>\n",
       "    </tr>\n",
       "    <tr>\n",
       "      <th>Mariager</th>\n",
       "      <td>2490</td>\n",
       "      <td>2516</td>\n",
       "    </tr>\n",
       "  </tbody>\n",
       "</table>\n",
       "<p>243 rows × 2 columns</p>\n",
       "</div>"
      ],
      "text/plain": [
       "                       2017     2007\n",
       "City                                \n",
       "Copenhagen          1295686  1145804\n",
       "Aarhus               269022   228123\n",
       "Odense               176683   158453\n",
       "Aalborg              113417   100731\n",
       "Esbjerg               72261    71129\n",
       "Randers               62563    59391\n",
       "Kolding               60300    55407\n",
       "Horsens               58480    51112\n",
       "Vejle                 55876    49943\n",
       "Roskilde              50393    46071\n",
       "Herning               49229    44481\n",
       "Hørsholm              47294    33293\n",
       "Helsingør             47123    34339\n",
       "Silkeborg             44333    41619\n",
       "Næstved               43234    41510\n",
       "Fredericia            40461    39356\n",
       "Viborg                40371    34522\n",
       "Køge                  36864    34735\n",
       "Holstebro             35867    33548\n",
       "Taastrup              34154    31461\n",
       "Slagelse              33433    31914\n",
       "Hillerød              32278    29382\n",
       "Holbæk                28134    25987\n",
       "Sønderborg            27826    27371\n",
       "Svendborg             27281    27263\n",
       "Hjørring              25764    24729\n",
       "Frederikshavn         23501    23499\n",
       "Nørresundby           22600    20879\n",
       "Ringsted              22490    19492\n",
       "Haderslev             21955    21182\n",
       "...                     ...      ...\n",
       "Højslev Stationsby     2820     2620\n",
       "Vestbjerg              2810     2284\n",
       "Tinglev                2803     2837\n",
       "Ullerslev              2788     2779\n",
       "Frejlev                2779     2544\n",
       "Aalestrup              2775     2718\n",
       "Søften                 2757     2185\n",
       "Tørring                2750     2363\n",
       "Hurup                  2745     2765\n",
       "Rødding                2735     2635\n",
       "Brovst                 2733     2777\n",
       "Tjæreborg              2711     2441\n",
       "Nordby                 2707     2563\n",
       "Skævinge               2631     2061\n",
       "Høruphav               2625     2547\n",
       "Kibæk                  2624     2652\n",
       "Hårlev                 2588     2523\n",
       "Gundsømagle            2584     2264\n",
       "Gram                   2562     2537\n",
       "Kås                    2558     2073\n",
       "Liseleje               2556     2480\n",
       "Vester Hassing         2554     2420\n",
       "Guderup                2531     2629\n",
       "Stoholm                2531     2332\n",
       "Forlev                 2528     2309\n",
       "Starup                 2517     2243\n",
       "Hørve                  2514     2264\n",
       "Nyråd                  2514     2373\n",
       "Arden                  2510     2470\n",
       "Mariager               2490     2516\n",
       "\n",
       "[243 rows x 2 columns]"
      ]
     },
     "execution_count": 24,
     "metadata": {},
     "output_type": "execute_result"
    }
   ],
   "source": [
    "# Select a subset of variables\n",
    "cities[['2017', '2007']]"
   ]
  },
  {
   "cell_type": "code",
   "execution_count": 25,
   "metadata": {
    "slideshow": {
     "slide_type": "subslide"
    }
   },
   "outputs": [
    {
     "data": {
      "text/html": [
       "<div>\n",
       "<style scoped>\n",
       "    .dataframe tbody tr th:only-of-type {\n",
       "        vertical-align: middle;\n",
       "    }\n",
       "\n",
       "    .dataframe tbody tr th {\n",
       "        vertical-align: top;\n",
       "    }\n",
       "\n",
       "    .dataframe thead th {\n",
       "        text-align: right;\n",
       "    }\n",
       "</style>\n",
       "<table border=\"1\" class=\"dataframe\">\n",
       "  <thead>\n",
       "    <tr style=\"text-align: right;\">\n",
       "      <th></th>\n",
       "      <th>2017</th>\n",
       "      <th>2016</th>\n",
       "    </tr>\n",
       "    <tr>\n",
       "      <th>City</th>\n",
       "      <th></th>\n",
       "      <th></th>\n",
       "    </tr>\n",
       "  </thead>\n",
       "  <tbody>\n",
       "    <tr>\n",
       "      <th>Copenhagen</th>\n",
       "      <td>1295686</td>\n",
       "      <td>1280371</td>\n",
       "    </tr>\n",
       "    <tr>\n",
       "      <th>Odense</th>\n",
       "      <td>176683</td>\n",
       "      <td>175245</td>\n",
       "    </tr>\n",
       "  </tbody>\n",
       "</table>\n",
       "</div>"
      ],
      "text/plain": [
       "               2017     2016\n",
       "City                        \n",
       "Copenhagen  1295686  1280371\n",
       "Odense       176683   175245"
      ]
     },
     "execution_count": 25,
     "metadata": {},
     "output_type": "execute_result"
    }
   ],
   "source": [
    "# Combining both\n",
    "cities.loc[['Copenhagen', 'Odense']][['2017', '2016']]"
   ]
  },
  {
   "cell_type": "code",
   "execution_count": 26,
   "metadata": {
    "slideshow": {
     "slide_type": "subslide"
    }
   },
   "outputs": [
    {
     "data": {
      "text/html": [
       "<div>\n",
       "<style scoped>\n",
       "    .dataframe tbody tr th:only-of-type {\n",
       "        vertical-align: middle;\n",
       "    }\n",
       "\n",
       "    .dataframe tbody tr th {\n",
       "        vertical-align: top;\n",
       "    }\n",
       "\n",
       "    .dataframe thead th {\n",
       "        text-align: right;\n",
       "    }\n",
       "</style>\n",
       "<table border=\"1\" class=\"dataframe\">\n",
       "  <thead>\n",
       "    <tr style=\"text-align: right;\">\n",
       "      <th></th>\n",
       "      <th>2017</th>\n",
       "      <th>2016</th>\n",
       "    </tr>\n",
       "    <tr>\n",
       "      <th>City</th>\n",
       "      <th></th>\n",
       "      <th></th>\n",
       "    </tr>\n",
       "  </thead>\n",
       "  <tbody>\n",
       "    <tr>\n",
       "      <th>Copenhagen</th>\n",
       "      <td>1295686</td>\n",
       "      <td>1280371</td>\n",
       "    </tr>\n",
       "    <tr>\n",
       "      <th>Odense</th>\n",
       "      <td>176683</td>\n",
       "      <td>175245</td>\n",
       "    </tr>\n",
       "  </tbody>\n",
       "</table>\n",
       "</div>"
      ],
      "text/plain": [
       "               2017     2016\n",
       "City                        \n",
       "Copenhagen  1295686  1280371\n",
       "Odense       176683   175245"
      ]
     },
     "execution_count": 26,
     "metadata": {},
     "output_type": "execute_result"
    }
   ],
   "source": [
    "# Using only loc selecting both rows and columns\n",
    "cities.loc[['Copenhagen', 'Odense'], ['2017', '2016']]"
   ]
  },
  {
   "cell_type": "code",
   "execution_count": 27,
   "metadata": {
    "slideshow": {
     "slide_type": "subslide"
    }
   },
   "outputs": [
    {
     "data": {
      "text/plain": [
       "173814"
      ]
     },
     "execution_count": 27,
     "metadata": {},
     "output_type": "execute_result"
    }
   ],
   "source": [
    "# Getting a single \"cell\"\n",
    "cities.loc['Odense', '2015']"
   ]
  },
  {
   "cell_type": "code",
   "execution_count": 28,
   "metadata": {
    "slideshow": {
     "slide_type": "subslide"
    }
   },
   "outputs": [
    {
     "data": {
      "text/html": [
       "<div>\n",
       "<style scoped>\n",
       "    .dataframe tbody tr th:only-of-type {\n",
       "        vertical-align: middle;\n",
       "    }\n",
       "\n",
       "    .dataframe tbody tr th {\n",
       "        vertical-align: top;\n",
       "    }\n",
       "\n",
       "    .dataframe thead th {\n",
       "        text-align: right;\n",
       "    }\n",
       "</style>\n",
       "<table border=\"1\" class=\"dataframe\">\n",
       "  <thead>\n",
       "    <tr style=\"text-align: right;\">\n",
       "      <th></th>\n",
       "      <th>No.</th>\n",
       "      <th>2017</th>\n",
       "      <th>2016</th>\n",
       "      <th>2015</th>\n",
       "      <th>2014</th>\n",
       "      <th>2013</th>\n",
       "      <th>2012</th>\n",
       "      <th>2011</th>\n",
       "      <th>2010</th>\n",
       "      <th>2009</th>\n",
       "      <th>2008</th>\n",
       "      <th>2007</th>\n",
       "      <th>2006</th>\n",
       "    </tr>\n",
       "    <tr>\n",
       "      <th>City</th>\n",
       "      <th></th>\n",
       "      <th></th>\n",
       "      <th></th>\n",
       "      <th></th>\n",
       "      <th></th>\n",
       "      <th></th>\n",
       "      <th></th>\n",
       "      <th></th>\n",
       "      <th></th>\n",
       "      <th></th>\n",
       "      <th></th>\n",
       "      <th></th>\n",
       "      <th></th>\n",
       "    </tr>\n",
       "  </thead>\n",
       "  <tbody>\n",
       "    <tr>\n",
       "      <th>Aarhus</th>\n",
       "      <td>2</td>\n",
       "      <td>269022</td>\n",
       "      <td>264716</td>\n",
       "      <td>261570</td>\n",
       "      <td>259754</td>\n",
       "      <td>256018</td>\n",
       "      <td>252213</td>\n",
       "      <td>249709</td>\n",
       "      <td>242914</td>\n",
       "      <td>239865</td>\n",
       "      <td>237551</td>\n",
       "      <td>228123</td>\n",
       "      <td>228674</td>\n",
       "    </tr>\n",
       "    <tr>\n",
       "      <th>Odense</th>\n",
       "      <td>3</td>\n",
       "      <td>176683</td>\n",
       "      <td>175245</td>\n",
       "      <td>173814</td>\n",
       "      <td>172512</td>\n",
       "      <td>170327</td>\n",
       "      <td>168798</td>\n",
       "      <td>167615</td>\n",
       "      <td>166305</td>\n",
       "      <td>158678</td>\n",
       "      <td>158163</td>\n",
       "      <td>158453</td>\n",
       "      <td>152060</td>\n",
       "    </tr>\n",
       "    <tr>\n",
       "      <th>Aalborg</th>\n",
       "      <td>4</td>\n",
       "      <td>113417</td>\n",
       "      <td>112194</td>\n",
       "      <td>110495</td>\n",
       "      <td>109092</td>\n",
       "      <td>106916</td>\n",
       "      <td>104855</td>\n",
       "      <td>103545</td>\n",
       "      <td>102312</td>\n",
       "      <td>101497</td>\n",
       "      <td>100873</td>\n",
       "      <td>100731</td>\n",
       "      <td>100617</td>\n",
       "    </tr>\n",
       "    <tr>\n",
       "      <th>Esbjerg</th>\n",
       "      <td>5</td>\n",
       "      <td>72261</td>\n",
       "      <td>72151</td>\n",
       "      <td>72060</td>\n",
       "      <td>71618</td>\n",
       "      <td>71491</td>\n",
       "      <td>71579</td>\n",
       "      <td>71576</td>\n",
       "      <td>71459</td>\n",
       "      <td>71025</td>\n",
       "      <td>70880</td>\n",
       "      <td>71129</td>\n",
       "      <td>71886</td>\n",
       "    </tr>\n",
       "    <tr>\n",
       "      <th>Randers</th>\n",
       "      <td>6</td>\n",
       "      <td>62563</td>\n",
       "      <td>62342</td>\n",
       "      <td>61664</td>\n",
       "      <td>61163</td>\n",
       "      <td>60895</td>\n",
       "      <td>61121</td>\n",
       "      <td>60656</td>\n",
       "      <td>60227</td>\n",
       "      <td>59842</td>\n",
       "      <td>59565</td>\n",
       "      <td>59391</td>\n",
       "      <td>55909</td>\n",
       "    </tr>\n",
       "  </tbody>\n",
       "</table>\n",
       "</div>"
      ],
      "text/plain": [
       "         No.    2017    2016    2015    2014    2013    2012    2011    2010  \\\n",
       "City                                                                           \n",
       "Aarhus     2  269022  264716  261570  259754  256018  252213  249709  242914   \n",
       "Odense     3  176683  175245  173814  172512  170327  168798  167615  166305   \n",
       "Aalborg    4  113417  112194  110495  109092  106916  104855  103545  102312   \n",
       "Esbjerg    5   72261   72151   72060   71618   71491   71579   71576   71459   \n",
       "Randers    6   62563   62342   61664   61163   60895   61121   60656   60227   \n",
       "\n",
       "           2009    2008    2007    2006  \n",
       "City                                     \n",
       "Aarhus   239865  237551  228123  228674  \n",
       "Odense   158678  158163  158453  152060  \n",
       "Aalborg  101497  100873  100731  100617  \n",
       "Esbjerg   71025   70880   71129   71886  \n",
       "Randers   59842   59565   59391   55909  "
      ]
     },
     "execution_count": 28,
     "metadata": {},
     "output_type": "execute_result"
    }
   ],
   "source": [
    "# Drop row\n",
    "cities.drop('Copenhagen').head()"
   ]
  },
  {
   "cell_type": "code",
   "execution_count": 29,
   "metadata": {
    "slideshow": {
     "slide_type": "subslide"
    }
   },
   "outputs": [
    {
     "data": {
      "text/html": [
       "<div>\n",
       "<style scoped>\n",
       "    .dataframe tbody tr th:only-of-type {\n",
       "        vertical-align: middle;\n",
       "    }\n",
       "\n",
       "    .dataframe tbody tr th {\n",
       "        vertical-align: top;\n",
       "    }\n",
       "\n",
       "    .dataframe thead th {\n",
       "        text-align: right;\n",
       "    }\n",
       "</style>\n",
       "<table border=\"1\" class=\"dataframe\">\n",
       "  <thead>\n",
       "    <tr style=\"text-align: right;\">\n",
       "      <th></th>\n",
       "      <th>2017</th>\n",
       "      <th>2016</th>\n",
       "      <th>2015</th>\n",
       "      <th>2014</th>\n",
       "      <th>2013</th>\n",
       "      <th>2012</th>\n",
       "      <th>2011</th>\n",
       "      <th>2010</th>\n",
       "      <th>2009</th>\n",
       "      <th>2008</th>\n",
       "      <th>2007</th>\n",
       "      <th>2006</th>\n",
       "    </tr>\n",
       "    <tr>\n",
       "      <th>City</th>\n",
       "      <th></th>\n",
       "      <th></th>\n",
       "      <th></th>\n",
       "      <th></th>\n",
       "      <th></th>\n",
       "      <th></th>\n",
       "      <th></th>\n",
       "      <th></th>\n",
       "      <th></th>\n",
       "      <th></th>\n",
       "      <th></th>\n",
       "      <th></th>\n",
       "    </tr>\n",
       "  </thead>\n",
       "  <tbody>\n",
       "    <tr>\n",
       "      <th>Copenhagen</th>\n",
       "      <td>1295686</td>\n",
       "      <td>1280371</td>\n",
       "      <td>1263698</td>\n",
       "      <td>1246611</td>\n",
       "      <td>1230728</td>\n",
       "      <td>1213822</td>\n",
       "      <td>1199224</td>\n",
       "      <td>1181239</td>\n",
       "      <td>1167569</td>\n",
       "      <td>1153615</td>\n",
       "      <td>1145804</td>\n",
       "      <td>1084885</td>\n",
       "    </tr>\n",
       "    <tr>\n",
       "      <th>Aarhus</th>\n",
       "      <td>269022</td>\n",
       "      <td>264716</td>\n",
       "      <td>261570</td>\n",
       "      <td>259754</td>\n",
       "      <td>256018</td>\n",
       "      <td>252213</td>\n",
       "      <td>249709</td>\n",
       "      <td>242914</td>\n",
       "      <td>239865</td>\n",
       "      <td>237551</td>\n",
       "      <td>228123</td>\n",
       "      <td>228674</td>\n",
       "    </tr>\n",
       "    <tr>\n",
       "      <th>Odense</th>\n",
       "      <td>176683</td>\n",
       "      <td>175245</td>\n",
       "      <td>173814</td>\n",
       "      <td>172512</td>\n",
       "      <td>170327</td>\n",
       "      <td>168798</td>\n",
       "      <td>167615</td>\n",
       "      <td>166305</td>\n",
       "      <td>158678</td>\n",
       "      <td>158163</td>\n",
       "      <td>158453</td>\n",
       "      <td>152060</td>\n",
       "    </tr>\n",
       "    <tr>\n",
       "      <th>Aalborg</th>\n",
       "      <td>113417</td>\n",
       "      <td>112194</td>\n",
       "      <td>110495</td>\n",
       "      <td>109092</td>\n",
       "      <td>106916</td>\n",
       "      <td>104855</td>\n",
       "      <td>103545</td>\n",
       "      <td>102312</td>\n",
       "      <td>101497</td>\n",
       "      <td>100873</td>\n",
       "      <td>100731</td>\n",
       "      <td>100617</td>\n",
       "    </tr>\n",
       "    <tr>\n",
       "      <th>Esbjerg</th>\n",
       "      <td>72261</td>\n",
       "      <td>72151</td>\n",
       "      <td>72060</td>\n",
       "      <td>71618</td>\n",
       "      <td>71491</td>\n",
       "      <td>71579</td>\n",
       "      <td>71576</td>\n",
       "      <td>71459</td>\n",
       "      <td>71025</td>\n",
       "      <td>70880</td>\n",
       "      <td>71129</td>\n",
       "      <td>71886</td>\n",
       "    </tr>\n",
       "  </tbody>\n",
       "</table>\n",
       "</div>"
      ],
      "text/plain": [
       "               2017     2016     2015     2014     2013     2012     2011  \\\n",
       "City                                                                        \n",
       "Copenhagen  1295686  1280371  1263698  1246611  1230728  1213822  1199224   \n",
       "Aarhus       269022   264716   261570   259754   256018   252213   249709   \n",
       "Odense       176683   175245   173814   172512   170327   168798   167615   \n",
       "Aalborg      113417   112194   110495   109092   106916   104855   103545   \n",
       "Esbjerg       72261    72151    72060    71618    71491    71579    71576   \n",
       "\n",
       "               2010     2009     2008     2007     2006  \n",
       "City                                                     \n",
       "Copenhagen  1181239  1167569  1153615  1145804  1084885  \n",
       "Aarhus       242914   239865   237551   228123   228674  \n",
       "Odense       166305   158678   158163   158453   152060  \n",
       "Aalborg      102312   101497   100873   100731   100617  \n",
       "Esbjerg       71459    71025    70880    71129    71886  "
      ]
     },
     "execution_count": 29,
     "metadata": {},
     "output_type": "execute_result"
    }
   ],
   "source": [
    "# Drop column\n",
    "cities.drop('No.', axis=1).head()"
   ]
  },
  {
   "cell_type": "markdown",
   "metadata": {
    "slideshow": {
     "slide_type": "subslide"
    }
   },
   "source": [
    "### Basic arithmetic and statistical operations"
   ]
  },
  {
   "cell_type": "markdown",
   "metadata": {
    "slideshow": {
     "slide_type": "subslide"
    }
   },
   "source": [
    "Let's calculate the total population for each year:"
   ]
  },
  {
   "cell_type": "code",
   "execution_count": 30,
   "metadata": {
    "slideshow": {
     "slide_type": "-"
    }
   },
   "outputs": [
    {
     "data": {
      "text/plain": [
       "2017    4219620\n",
       "2016    4179092\n",
       "2015    4133116\n",
       "2014    4096880\n",
       "2013    4065457\n",
       "2012    4032811\n",
       "2011    4003834\n",
       "2010    3962470\n",
       "2009    3902680\n",
       "2008    3858294\n",
       "2007    3826891\n",
       "2006    3733983\n",
       "dtype: int64"
      ]
     },
     "execution_count": 30,
     "metadata": {},
     "output_type": "execute_result"
    }
   ],
   "source": [
    "# Let's work on a copy without 'No.'\n",
    "df = cities.drop('No.', axis=1)\n",
    "df.sum()"
   ]
  },
  {
   "cell_type": "markdown",
   "metadata": {
    "slideshow": {
     "slide_type": "subslide"
    }
   },
   "source": [
    "Some statistical summary:"
   ]
  },
  {
   "cell_type": "code",
   "execution_count": 31,
   "metadata": {
    "slideshow": {
     "slide_type": "-"
    }
   },
   "outputs": [
    {
     "data": {
      "text/html": [
       "<div>\n",
       "<style scoped>\n",
       "    .dataframe tbody tr th:only-of-type {\n",
       "        vertical-align: middle;\n",
       "    }\n",
       "\n",
       "    .dataframe tbody tr th {\n",
       "        vertical-align: top;\n",
       "    }\n",
       "\n",
       "    .dataframe thead th {\n",
       "        text-align: right;\n",
       "    }\n",
       "</style>\n",
       "<table border=\"1\" class=\"dataframe\">\n",
       "  <thead>\n",
       "    <tr style=\"text-align: right;\">\n",
       "      <th></th>\n",
       "      <th>2017</th>\n",
       "      <th>2016</th>\n",
       "      <th>2015</th>\n",
       "      <th>2014</th>\n",
       "      <th>2013</th>\n",
       "      <th>2012</th>\n",
       "      <th>2011</th>\n",
       "      <th>2010</th>\n",
       "      <th>2009</th>\n",
       "      <th>2008</th>\n",
       "      <th>2007</th>\n",
       "      <th>2006</th>\n",
       "    </tr>\n",
       "  </thead>\n",
       "  <tbody>\n",
       "    <tr>\n",
       "      <th>count</th>\n",
       "      <td>2.430000e+02</td>\n",
       "      <td>2.430000e+02</td>\n",
       "      <td>2.430000e+02</td>\n",
       "      <td>2.430000e+02</td>\n",
       "      <td>2.430000e+02</td>\n",
       "      <td>2.430000e+02</td>\n",
       "      <td>2.430000e+02</td>\n",
       "      <td>2.430000e+02</td>\n",
       "      <td>2.430000e+02</td>\n",
       "      <td>2.430000e+02</td>\n",
       "      <td>2.430000e+02</td>\n",
       "      <td>2.430000e+02</td>\n",
       "    </tr>\n",
       "    <tr>\n",
       "      <th>mean</th>\n",
       "      <td>1.736469e+04</td>\n",
       "      <td>1.719791e+04</td>\n",
       "      <td>1.700871e+04</td>\n",
       "      <td>1.685959e+04</td>\n",
       "      <td>1.673028e+04</td>\n",
       "      <td>1.659593e+04</td>\n",
       "      <td>1.647668e+04</td>\n",
       "      <td>1.630646e+04</td>\n",
       "      <td>1.606041e+04</td>\n",
       "      <td>1.587775e+04</td>\n",
       "      <td>1.574852e+04</td>\n",
       "      <td>1.536619e+04</td>\n",
       "    </tr>\n",
       "    <tr>\n",
       "      <th>std</th>\n",
       "      <td>8.578832e+04</td>\n",
       "      <td>8.476814e+04</td>\n",
       "      <td>8.367356e+04</td>\n",
       "      <td>8.257319e+04</td>\n",
       "      <td>8.151614e+04</td>\n",
       "      <td>8.040404e+04</td>\n",
       "      <td>7.945202e+04</td>\n",
       "      <td>7.824266e+04</td>\n",
       "      <td>7.728206e+04</td>\n",
       "      <td>7.636908e+04</td>\n",
       "      <td>7.578048e+04</td>\n",
       "      <td>7.199244e+04</td>\n",
       "    </tr>\n",
       "    <tr>\n",
       "      <th>min</th>\n",
       "      <td>2.490000e+03</td>\n",
       "      <td>2.486000e+03</td>\n",
       "      <td>2.395000e+03</td>\n",
       "      <td>2.371000e+03</td>\n",
       "      <td>2.359000e+03</td>\n",
       "      <td>2.340000e+03</td>\n",
       "      <td>2.288000e+03</td>\n",
       "      <td>2.283000e+03</td>\n",
       "      <td>2.032000e+03</td>\n",
       "      <td>2.049000e+03</td>\n",
       "      <td>2.061000e+03</td>\n",
       "      <td>5.310000e+02</td>\n",
       "    </tr>\n",
       "    <tr>\n",
       "      <th>25%</th>\n",
       "      <td>3.235500e+03</td>\n",
       "      <td>3.220000e+03</td>\n",
       "      <td>3.223000e+03</td>\n",
       "      <td>3.237500e+03</td>\n",
       "      <td>3.187000e+03</td>\n",
       "      <td>3.184000e+03</td>\n",
       "      <td>3.178500e+03</td>\n",
       "      <td>3.172500e+03</td>\n",
       "      <td>3.140000e+03</td>\n",
       "      <td>3.114000e+03</td>\n",
       "      <td>3.075500e+03</td>\n",
       "      <td>2.993500e+03</td>\n",
       "    </tr>\n",
       "    <tr>\n",
       "      <th>50%</th>\n",
       "      <td>4.905000e+03</td>\n",
       "      <td>4.881000e+03</td>\n",
       "      <td>4.913000e+03</td>\n",
       "      <td>4.883000e+03</td>\n",
       "      <td>4.866000e+03</td>\n",
       "      <td>4.796000e+03</td>\n",
       "      <td>4.701000e+03</td>\n",
       "      <td>4.732000e+03</td>\n",
       "      <td>4.658000e+03</td>\n",
       "      <td>4.632000e+03</td>\n",
       "      <td>4.590000e+03</td>\n",
       "      <td>4.483000e+03</td>\n",
       "    </tr>\n",
       "    <tr>\n",
       "      <th>75%</th>\n",
       "      <td>1.109200e+04</td>\n",
       "      <td>1.103400e+04</td>\n",
       "      <td>1.087400e+04</td>\n",
       "      <td>1.085850e+04</td>\n",
       "      <td>1.086650e+04</td>\n",
       "      <td>1.087250e+04</td>\n",
       "      <td>1.083000e+04</td>\n",
       "      <td>1.085350e+04</td>\n",
       "      <td>1.046450e+04</td>\n",
       "      <td>1.041550e+04</td>\n",
       "      <td>1.024400e+04</td>\n",
       "      <td>1.007950e+04</td>\n",
       "    </tr>\n",
       "    <tr>\n",
       "      <th>max</th>\n",
       "      <td>1.295686e+06</td>\n",
       "      <td>1.280371e+06</td>\n",
       "      <td>1.263698e+06</td>\n",
       "      <td>1.246611e+06</td>\n",
       "      <td>1.230728e+06</td>\n",
       "      <td>1.213822e+06</td>\n",
       "      <td>1.199224e+06</td>\n",
       "      <td>1.181239e+06</td>\n",
       "      <td>1.167569e+06</td>\n",
       "      <td>1.153615e+06</td>\n",
       "      <td>1.145804e+06</td>\n",
       "      <td>1.084885e+06</td>\n",
       "    </tr>\n",
       "  </tbody>\n",
       "</table>\n",
       "</div>"
      ],
      "text/plain": [
       "               2017          2016          2015          2014          2013  \\\n",
       "count  2.430000e+02  2.430000e+02  2.430000e+02  2.430000e+02  2.430000e+02   \n",
       "mean   1.736469e+04  1.719791e+04  1.700871e+04  1.685959e+04  1.673028e+04   \n",
       "std    8.578832e+04  8.476814e+04  8.367356e+04  8.257319e+04  8.151614e+04   \n",
       "min    2.490000e+03  2.486000e+03  2.395000e+03  2.371000e+03  2.359000e+03   \n",
       "25%    3.235500e+03  3.220000e+03  3.223000e+03  3.237500e+03  3.187000e+03   \n",
       "50%    4.905000e+03  4.881000e+03  4.913000e+03  4.883000e+03  4.866000e+03   \n",
       "75%    1.109200e+04  1.103400e+04  1.087400e+04  1.085850e+04  1.086650e+04   \n",
       "max    1.295686e+06  1.280371e+06  1.263698e+06  1.246611e+06  1.230728e+06   \n",
       "\n",
       "               2012          2011          2010          2009          2008  \\\n",
       "count  2.430000e+02  2.430000e+02  2.430000e+02  2.430000e+02  2.430000e+02   \n",
       "mean   1.659593e+04  1.647668e+04  1.630646e+04  1.606041e+04  1.587775e+04   \n",
       "std    8.040404e+04  7.945202e+04  7.824266e+04  7.728206e+04  7.636908e+04   \n",
       "min    2.340000e+03  2.288000e+03  2.283000e+03  2.032000e+03  2.049000e+03   \n",
       "25%    3.184000e+03  3.178500e+03  3.172500e+03  3.140000e+03  3.114000e+03   \n",
       "50%    4.796000e+03  4.701000e+03  4.732000e+03  4.658000e+03  4.632000e+03   \n",
       "75%    1.087250e+04  1.083000e+04  1.085350e+04  1.046450e+04  1.041550e+04   \n",
       "max    1.213822e+06  1.199224e+06  1.181239e+06  1.167569e+06  1.153615e+06   \n",
       "\n",
       "               2007          2006  \n",
       "count  2.430000e+02  2.430000e+02  \n",
       "mean   1.574852e+04  1.536619e+04  \n",
       "std    7.578048e+04  7.199244e+04  \n",
       "min    2.061000e+03  5.310000e+02  \n",
       "25%    3.075500e+03  2.993500e+03  \n",
       "50%    4.590000e+03  4.483000e+03  \n",
       "75%    1.024400e+04  1.007950e+04  \n",
       "max    1.145804e+06  1.084885e+06  "
      ]
     },
     "execution_count": 31,
     "metadata": {},
     "output_type": "execute_result"
    }
   ],
   "source": [
    "df.describe()"
   ]
  },
  {
   "cell_type": "code",
   "execution_count": 40,
   "metadata": {
    "slideshow": {
     "slide_type": "subslide"
    }
   },
   "outputs": [
    {
     "data": {
      "text/plain": [
       "1295686"
      ]
     },
     "execution_count": 40,
     "metadata": {},
     "output_type": "execute_result"
    }
   ],
   "source": [
    "df['2017'].max()"
   ]
  },
  {
   "cell_type": "code",
   "execution_count": 41,
   "metadata": {
    "slideshow": {
     "slide_type": "fragment"
    }
   },
   "outputs": [
    {
     "data": {
      "text/plain": [
       "2490"
      ]
     },
     "execution_count": 41,
     "metadata": {},
     "output_type": "execute_result"
    }
   ],
   "source": [
    "df['2017'].min()"
   ]
  },
  {
   "cell_type": "markdown",
   "metadata": {
    "slideshow": {
     "slide_type": "subslide"
    }
   },
   "source": [
    "Calculate the increase from 2016 to 2017:"
   ]
  },
  {
   "cell_type": "code",
   "execution_count": 33,
   "metadata": {
    "slideshow": {
     "slide_type": "-"
    }
   },
   "outputs": [
    {
     "data": {
      "text/plain": [
       "City\n",
       "Copenhagen            15315\n",
       "Aarhus                 4306\n",
       "Odense                 1438\n",
       "Aalborg                1223\n",
       "Esbjerg                 110\n",
       "Randers                 221\n",
       "Kolding                 588\n",
       "Horsens                 963\n",
       "Vejle                  1014\n",
       "Roskilde                347\n",
       "Herning                 698\n",
       "Hørsholm                294\n",
       "Helsingør               294\n",
       "Silkeborg               448\n",
       "Næstved                 255\n",
       "Fredericia              213\n",
       "Viborg                  515\n",
       "Køge                     33\n",
       "Holstebro               475\n",
       "Taastrup                183\n",
       "Slagelse                433\n",
       "Hillerød                381\n",
       "Holbæk                  555\n",
       "Sønderborg              231\n",
       "Svendborg               207\n",
       "Hjørring                138\n",
       "Frederikshavn            99\n",
       "Nørresundby             122\n",
       "Ringsted                259\n",
       "Haderslev               -39\n",
       "                      ...  \n",
       "Højslev Stationsby        8\n",
       "Vestbjerg                75\n",
       "Tinglev                  42\n",
       "Ullerslev                18\n",
       "Frejlev                  89\n",
       "Aalestrup                14\n",
       "Søften                   11\n",
       "Tørring                  78\n",
       "Hurup                   -28\n",
       "Rødding                  16\n",
       "Brovst                  -37\n",
       "Tjæreborg                18\n",
       "Nordby                   15\n",
       "Skævinge                 54\n",
       "Høruphav                 14\n",
       "Kibæk                   -24\n",
       "Hårlev                  -10\n",
       "Gundsømagle              96\n",
       "Gram                     36\n",
       "Kås                     -43\n",
       "Liseleje                  6\n",
       "Vester Hassing          -18\n",
       "Guderup                 -17\n",
       "Stoholm                  -8\n",
       "Forlev                   30\n",
       "Starup                   31\n",
       "Hørve                    21\n",
       "Nyråd                     7\n",
       "Arden                   -32\n",
       "Mariager                -20\n",
       "Length: 243, dtype: int64"
      ]
     },
     "execution_count": 33,
     "metadata": {},
     "output_type": "execute_result"
    }
   ],
   "source": [
    "df['2017'] - df['2016']"
   ]
  },
  {
   "cell_type": "markdown",
   "metadata": {
    "slideshow": {
     "slide_type": "subslide"
    }
   },
   "source": [
    "Can you say what's happening here?"
   ]
  },
  {
   "cell_type": "code",
   "execution_count": 44,
   "metadata": {
    "slideshow": {
     "slide_type": "-"
    }
   },
   "outputs": [
    {
     "data": {
      "text/plain": [
       "166.78189300411523"
      ]
     },
     "execution_count": 44,
     "metadata": {},
     "output_type": "execute_result"
    }
   ],
   "source": [
    "(df['2017'] - df['2016']).mean()"
   ]
  },
  {
   "cell_type": "markdown",
   "metadata": {
    "slideshow": {
     "slide_type": "subslide"
    }
   },
   "source": [
    "Let's see the increase only for Copenhagen and Odense:"
   ]
  },
  {
   "cell_type": "code",
   "execution_count": 34,
   "metadata": {
    "slideshow": {
     "slide_type": "-"
    }
   },
   "outputs": [
    {
     "data": {
      "text/plain": [
       "City\n",
       "Copenhagen    15315\n",
       "Odense         1438\n",
       "dtype: int64"
      ]
     },
     "execution_count": 34,
     "metadata": {},
     "output_type": "execute_result"
    }
   ],
   "source": [
    "(df['2017'] - df['2016']).loc[['Copenhagen', 'Odense']]"
   ]
  },
  {
   "cell_type": "markdown",
   "metadata": {
    "slideshow": {
     "slide_type": "subslide"
    }
   },
   "source": [
    "Did any city or town experiences a decrease in the population between 2006-2017?"
   ]
  },
  {
   "cell_type": "code",
   "execution_count": 35,
   "metadata": {
    "slideshow": {
     "slide_type": "-"
    }
   },
   "outputs": [
    {
     "data": {
      "text/html": [
       "<div>\n",
       "<style scoped>\n",
       "    .dataframe tbody tr th:only-of-type {\n",
       "        vertical-align: middle;\n",
       "    }\n",
       "\n",
       "    .dataframe tbody tr th {\n",
       "        vertical-align: top;\n",
       "    }\n",
       "\n",
       "    .dataframe thead th {\n",
       "        text-align: right;\n",
       "    }\n",
       "</style>\n",
       "<table border=\"1\" class=\"dataframe\">\n",
       "  <thead>\n",
       "    <tr style=\"text-align: right;\">\n",
       "      <th></th>\n",
       "      <th>2017</th>\n",
       "      <th>2016</th>\n",
       "      <th>2015</th>\n",
       "      <th>2014</th>\n",
       "      <th>2013</th>\n",
       "      <th>2012</th>\n",
       "      <th>2011</th>\n",
       "      <th>2010</th>\n",
       "      <th>2009</th>\n",
       "      <th>2008</th>\n",
       "      <th>2007</th>\n",
       "      <th>2006</th>\n",
       "    </tr>\n",
       "    <tr>\n",
       "      <th>City</th>\n",
       "      <th></th>\n",
       "      <th></th>\n",
       "      <th></th>\n",
       "      <th></th>\n",
       "      <th></th>\n",
       "      <th></th>\n",
       "      <th></th>\n",
       "      <th></th>\n",
       "      <th></th>\n",
       "      <th></th>\n",
       "      <th></th>\n",
       "      <th></th>\n",
       "    </tr>\n",
       "  </thead>\n",
       "  <tbody>\n",
       "    <tr>\n",
       "      <th>Frederikshavn</th>\n",
       "      <td>23501</td>\n",
       "      <td>23402</td>\n",
       "      <td>23345</td>\n",
       "      <td>23156</td>\n",
       "      <td>23309</td>\n",
       "      <td>23295</td>\n",
       "      <td>23339</td>\n",
       "      <td>23331</td>\n",
       "      <td>23511</td>\n",
       "      <td>23551</td>\n",
       "      <td>23499</td>\n",
       "      <td>23636</td>\n",
       "    </tr>\n",
       "    <tr>\n",
       "      <th>Korsør</th>\n",
       "      <td>14702</td>\n",
       "      <td>14603</td>\n",
       "      <td>14392</td>\n",
       "      <td>14369</td>\n",
       "      <td>14501</td>\n",
       "      <td>14538</td>\n",
       "      <td>14412</td>\n",
       "      <td>14439</td>\n",
       "      <td>14589</td>\n",
       "      <td>14659</td>\n",
       "      <td>14773</td>\n",
       "      <td>14850</td>\n",
       "    </tr>\n",
       "    <tr>\n",
       "      <th>Rønne</th>\n",
       "      <td>13723</td>\n",
       "      <td>13639</td>\n",
       "      <td>13579</td>\n",
       "      <td>13568</td>\n",
       "      <td>13730</td>\n",
       "      <td>13887</td>\n",
       "      <td>13904</td>\n",
       "      <td>13924</td>\n",
       "      <td>14031</td>\n",
       "      <td>14056</td>\n",
       "      <td>13990</td>\n",
       "      <td>14043</td>\n",
       "    </tr>\n",
       "    <tr>\n",
       "      <th>Nakskov</th>\n",
       "      <td>12758</td>\n",
       "      <td>12688</td>\n",
       "      <td>12665</td>\n",
       "      <td>12866</td>\n",
       "      <td>13243</td>\n",
       "      <td>13332</td>\n",
       "      <td>13560</td>\n",
       "      <td>13697</td>\n",
       "      <td>13886</td>\n",
       "      <td>14013</td>\n",
       "      <td>14051</td>\n",
       "      <td>14240</td>\n",
       "    </tr>\n",
       "    <tr>\n",
       "      <th>Struer</th>\n",
       "      <td>10375</td>\n",
       "      <td>10415</td>\n",
       "      <td>10285</td>\n",
       "      <td>10261</td>\n",
       "      <td>10427</td>\n",
       "      <td>10544</td>\n",
       "      <td>10572</td>\n",
       "      <td>10797</td>\n",
       "      <td>10873</td>\n",
       "      <td>10846</td>\n",
       "      <td>10809</td>\n",
       "      <td>10957</td>\n",
       "    </tr>\n",
       "    <tr>\n",
       "      <th>Nykøbing M</th>\n",
       "      <td>9135</td>\n",
       "      <td>9012</td>\n",
       "      <td>9014</td>\n",
       "      <td>9031</td>\n",
       "      <td>9040</td>\n",
       "      <td>9222</td>\n",
       "      <td>9154</td>\n",
       "      <td>9172</td>\n",
       "      <td>9198</td>\n",
       "      <td>9189</td>\n",
       "      <td>9136</td>\n",
       "      <td>9225</td>\n",
       "    </tr>\n",
       "    <tr>\n",
       "      <th>Hundested</th>\n",
       "      <td>8588</td>\n",
       "      <td>8595</td>\n",
       "      <td>8543</td>\n",
       "      <td>8579</td>\n",
       "      <td>8632</td>\n",
       "      <td>8732</td>\n",
       "      <td>8861</td>\n",
       "      <td>8832</td>\n",
       "      <td>8867</td>\n",
       "      <td>8917</td>\n",
       "      <td>8874</td>\n",
       "      <td>8892</td>\n",
       "    </tr>\n",
       "    <tr>\n",
       "      <th>Skagen</th>\n",
       "      <td>8088</td>\n",
       "      <td>8124</td>\n",
       "      <td>8211</td>\n",
       "      <td>8198</td>\n",
       "      <td>8220</td>\n",
       "      <td>8347</td>\n",
       "      <td>8515</td>\n",
       "      <td>8636</td>\n",
       "      <td>8750</td>\n",
       "      <td>8941</td>\n",
       "      <td>9187</td>\n",
       "      <td>9380</td>\n",
       "    </tr>\n",
       "    <tr>\n",
       "      <th>Tønder</th>\n",
       "      <td>7693</td>\n",
       "      <td>7587</td>\n",
       "      <td>7543</td>\n",
       "      <td>7595</td>\n",
       "      <td>7572</td>\n",
       "      <td>7685</td>\n",
       "      <td>7690</td>\n",
       "      <td>7743</td>\n",
       "      <td>7787</td>\n",
       "      <td>7831</td>\n",
       "      <td>7792</td>\n",
       "      <td>7896</td>\n",
       "    </tr>\n",
       "    <tr>\n",
       "      <th>Vojens</th>\n",
       "      <td>7627</td>\n",
       "      <td>7579</td>\n",
       "      <td>7650</td>\n",
       "      <td>7655</td>\n",
       "      <td>7611</td>\n",
       "      <td>7666</td>\n",
       "      <td>7694</td>\n",
       "      <td>7735</td>\n",
       "      <td>7714</td>\n",
       "      <td>7749</td>\n",
       "      <td>7843</td>\n",
       "      <td>7864</td>\n",
       "    </tr>\n",
       "    <tr>\n",
       "      <th>Faaborg</th>\n",
       "      <td>7097</td>\n",
       "      <td>7178</td>\n",
       "      <td>7150</td>\n",
       "      <td>7178</td>\n",
       "      <td>7249</td>\n",
       "      <td>7200</td>\n",
       "      <td>7178</td>\n",
       "      <td>7217</td>\n",
       "      <td>7207</td>\n",
       "      <td>7222</td>\n",
       "      <td>7265</td>\n",
       "      <td>7234</td>\n",
       "    </tr>\n",
       "    <tr>\n",
       "      <th>Lemvig</th>\n",
       "      <td>6936</td>\n",
       "      <td>6929</td>\n",
       "      <td>6966</td>\n",
       "      <td>7031</td>\n",
       "      <td>7141</td>\n",
       "      <td>7131</td>\n",
       "      <td>7140</td>\n",
       "      <td>7195</td>\n",
       "      <td>7151</td>\n",
       "      <td>7148</td>\n",
       "      <td>7134</td>\n",
       "      <td>7128</td>\n",
       "    </tr>\n",
       "    <tr>\n",
       "      <th>Nordborg</th>\n",
       "      <td>5970</td>\n",
       "      <td>5967</td>\n",
       "      <td>6079</td>\n",
       "      <td>6191</td>\n",
       "      <td>6447</td>\n",
       "      <td>6650</td>\n",
       "      <td>6730</td>\n",
       "      <td>6860</td>\n",
       "      <td>7089</td>\n",
       "      <td>7157</td>\n",
       "      <td>7175</td>\n",
       "      <td>7248</td>\n",
       "    </tr>\n",
       "    <tr>\n",
       "      <th>Hirtshals</th>\n",
       "      <td>5880</td>\n",
       "      <td>5910</td>\n",
       "      <td>5879</td>\n",
       "      <td>5959</td>\n",
       "      <td>6028</td>\n",
       "      <td>6140</td>\n",
       "      <td>6194</td>\n",
       "      <td>6268</td>\n",
       "      <td>6310</td>\n",
       "      <td>6346</td>\n",
       "      <td>6398</td>\n",
       "      <td>6475</td>\n",
       "    </tr>\n",
       "    <tr>\n",
       "      <th>Hadsund</th>\n",
       "      <td>4857</td>\n",
       "      <td>4869</td>\n",
       "      <td>4913</td>\n",
       "      <td>4883</td>\n",
       "      <td>4912</td>\n",
       "      <td>4994</td>\n",
       "      <td>5040</td>\n",
       "      <td>5028</td>\n",
       "      <td>5016</td>\n",
       "      <td>5068</td>\n",
       "      <td>5040</td>\n",
       "      <td>5062</td>\n",
       "    </tr>\n",
       "    <tr>\n",
       "      <th>Rudkøbing</th>\n",
       "      <td>4586</td>\n",
       "      <td>4529</td>\n",
       "      <td>4513</td>\n",
       "      <td>4537</td>\n",
       "      <td>4547</td>\n",
       "      <td>4646</td>\n",
       "      <td>4697</td>\n",
       "      <td>4641</td>\n",
       "      <td>4658</td>\n",
       "      <td>4647</td>\n",
       "      <td>4692</td>\n",
       "      <td>4717</td>\n",
       "    </tr>\n",
       "    <tr>\n",
       "      <th>Sakskøbing</th>\n",
       "      <td>4545</td>\n",
       "      <td>4541</td>\n",
       "      <td>4519</td>\n",
       "      <td>4539</td>\n",
       "      <td>4565</td>\n",
       "      <td>4708</td>\n",
       "      <td>4701</td>\n",
       "      <td>4732</td>\n",
       "      <td>4784</td>\n",
       "      <td>4762</td>\n",
       "      <td>4804</td>\n",
       "      <td>4815</td>\n",
       "    </tr>\n",
       "    <tr>\n",
       "      <th>Padborg</th>\n",
       "      <td>4389</td>\n",
       "      <td>4393</td>\n",
       "      <td>4406</td>\n",
       "      <td>4455</td>\n",
       "      <td>4459</td>\n",
       "      <td>4476</td>\n",
       "      <td>4486</td>\n",
       "      <td>4552</td>\n",
       "      <td>4607</td>\n",
       "      <td>4585</td>\n",
       "      <td>4581</td>\n",
       "      <td>4534</td>\n",
       "    </tr>\n",
       "    <tr>\n",
       "      <th>Vodskov</th>\n",
       "      <td>4292</td>\n",
       "      <td>4381</td>\n",
       "      <td>4456</td>\n",
       "      <td>4371</td>\n",
       "      <td>4295</td>\n",
       "      <td>4374</td>\n",
       "      <td>4399</td>\n",
       "      <td>4414</td>\n",
       "      <td>4370</td>\n",
       "      <td>4469</td>\n",
       "      <td>4371</td>\n",
       "      <td>4374</td>\n",
       "    </tr>\n",
       "    <tr>\n",
       "      <th>Løgstør</th>\n",
       "      <td>4104</td>\n",
       "      <td>4114</td>\n",
       "      <td>4220</td>\n",
       "      <td>4284</td>\n",
       "      <td>4271</td>\n",
       "      <td>4300</td>\n",
       "      <td>4357</td>\n",
       "      <td>4412</td>\n",
       "      <td>4367</td>\n",
       "      <td>4389</td>\n",
       "      <td>4409</td>\n",
       "      <td>4434</td>\n",
       "    </tr>\n",
       "    <tr>\n",
       "      <th>Ølgod</th>\n",
       "      <td>3892</td>\n",
       "      <td>3857</td>\n",
       "      <td>3853</td>\n",
       "      <td>3831</td>\n",
       "      <td>3920</td>\n",
       "      <td>3926</td>\n",
       "      <td>3950</td>\n",
       "      <td>4021</td>\n",
       "      <td>3995</td>\n",
       "      <td>3965</td>\n",
       "      <td>3974</td>\n",
       "      <td>4042</td>\n",
       "    </tr>\n",
       "    <tr>\n",
       "      <th>Stege</th>\n",
       "      <td>3813</td>\n",
       "      <td>3844</td>\n",
       "      <td>3841</td>\n",
       "      <td>3830</td>\n",
       "      <td>3826</td>\n",
       "      <td>3835</td>\n",
       "      <td>3823</td>\n",
       "      <td>3856</td>\n",
       "      <td>3928</td>\n",
       "      <td>3973</td>\n",
       "      <td>3976</td>\n",
       "      <td>4043</td>\n",
       "    </tr>\n",
       "    <tr>\n",
       "      <th>Nexø</th>\n",
       "      <td>3654</td>\n",
       "      <td>3647</td>\n",
       "      <td>3642</td>\n",
       "      <td>3686</td>\n",
       "      <td>3660</td>\n",
       "      <td>3700</td>\n",
       "      <td>3762</td>\n",
       "      <td>3732</td>\n",
       "      <td>3769</td>\n",
       "      <td>3833</td>\n",
       "      <td>3867</td>\n",
       "      <td>3772</td>\n",
       "    </tr>\n",
       "    <tr>\n",
       "      <th>Gistrup</th>\n",
       "      <td>3579</td>\n",
       "      <td>3582</td>\n",
       "      <td>3544</td>\n",
       "      <td>3509</td>\n",
       "      <td>3501</td>\n",
       "      <td>3478</td>\n",
       "      <td>3573</td>\n",
       "      <td>3550</td>\n",
       "      <td>3570</td>\n",
       "      <td>3590</td>\n",
       "      <td>3631</td>\n",
       "      <td>3660</td>\n",
       "    </tr>\n",
       "    <tr>\n",
       "      <th>Toftlund</th>\n",
       "      <td>3283</td>\n",
       "      <td>3281</td>\n",
       "      <td>3232</td>\n",
       "      <td>3297</td>\n",
       "      <td>3311</td>\n",
       "      <td>3328</td>\n",
       "      <td>3324</td>\n",
       "      <td>3284</td>\n",
       "      <td>3343</td>\n",
       "      <td>3352</td>\n",
       "      <td>3344</td>\n",
       "      <td>3361</td>\n",
       "    </tr>\n",
       "    <tr>\n",
       "      <th>Augustenborg</th>\n",
       "      <td>3245</td>\n",
       "      <td>3288</td>\n",
       "      <td>3270</td>\n",
       "      <td>3284</td>\n",
       "      <td>3331</td>\n",
       "      <td>3233</td>\n",
       "      <td>3279</td>\n",
       "      <td>3255</td>\n",
       "      <td>3310</td>\n",
       "      <td>3315</td>\n",
       "      <td>3322</td>\n",
       "      <td>3247</td>\n",
       "    </tr>\n",
       "    <tr>\n",
       "      <th>Thurø</th>\n",
       "      <td>3232</td>\n",
       "      <td>3223</td>\n",
       "      <td>3244</td>\n",
       "      <td>3270</td>\n",
       "      <td>3302</td>\n",
       "      <td>3328</td>\n",
       "      <td>3383</td>\n",
       "      <td>3413</td>\n",
       "      <td>3427</td>\n",
       "      <td>3410</td>\n",
       "      <td>3425</td>\n",
       "      <td>3377</td>\n",
       "    </tr>\n",
       "    <tr>\n",
       "      <th>Sindal</th>\n",
       "      <td>3069</td>\n",
       "      <td>3055</td>\n",
       "      <td>3058</td>\n",
       "      <td>3066</td>\n",
       "      <td>3079</td>\n",
       "      <td>3090</td>\n",
       "      <td>3081</td>\n",
       "      <td>3036</td>\n",
       "      <td>3043</td>\n",
       "      <td>3052</td>\n",
       "      <td>3036</td>\n",
       "      <td>3097</td>\n",
       "    </tr>\n",
       "    <tr>\n",
       "      <th>Hvide Sande</th>\n",
       "      <td>3045</td>\n",
       "      <td>3059</td>\n",
       "      <td>3015</td>\n",
       "      <td>3046</td>\n",
       "      <td>3077</td>\n",
       "      <td>3059</td>\n",
       "      <td>3110</td>\n",
       "      <td>3170</td>\n",
       "      <td>3156</td>\n",
       "      <td>3132</td>\n",
       "      <td>3156</td>\n",
       "      <td>3197</td>\n",
       "    </tr>\n",
       "    <tr>\n",
       "      <th>Sundby</th>\n",
       "      <td>2843</td>\n",
       "      <td>2820</td>\n",
       "      <td>2797</td>\n",
       "      <td>2847</td>\n",
       "      <td>2817</td>\n",
       "      <td>2842</td>\n",
       "      <td>2872</td>\n",
       "      <td>2873</td>\n",
       "      <td>2873</td>\n",
       "      <td>2905</td>\n",
       "      <td>2887</td>\n",
       "      <td>2873</td>\n",
       "    </tr>\n",
       "    <tr>\n",
       "      <th>Tinglev</th>\n",
       "      <td>2803</td>\n",
       "      <td>2761</td>\n",
       "      <td>2749</td>\n",
       "      <td>2729</td>\n",
       "      <td>2771</td>\n",
       "      <td>2784</td>\n",
       "      <td>2816</td>\n",
       "      <td>2844</td>\n",
       "      <td>2867</td>\n",
       "      <td>2843</td>\n",
       "      <td>2837</td>\n",
       "      <td>2842</td>\n",
       "    </tr>\n",
       "    <tr>\n",
       "      <th>Hurup</th>\n",
       "      <td>2745</td>\n",
       "      <td>2773</td>\n",
       "      <td>2757</td>\n",
       "      <td>2765</td>\n",
       "      <td>2772</td>\n",
       "      <td>2789</td>\n",
       "      <td>2803</td>\n",
       "      <td>2752</td>\n",
       "      <td>2789</td>\n",
       "      <td>2753</td>\n",
       "      <td>2765</td>\n",
       "      <td>2794</td>\n",
       "    </tr>\n",
       "    <tr>\n",
       "      <th>Brovst</th>\n",
       "      <td>2733</td>\n",
       "      <td>2770</td>\n",
       "      <td>2763</td>\n",
       "      <td>2755</td>\n",
       "      <td>2776</td>\n",
       "      <td>2804</td>\n",
       "      <td>2778</td>\n",
       "      <td>2783</td>\n",
       "      <td>2781</td>\n",
       "      <td>2805</td>\n",
       "      <td>2777</td>\n",
       "      <td>2749</td>\n",
       "    </tr>\n",
       "    <tr>\n",
       "      <th>Kibæk</th>\n",
       "      <td>2624</td>\n",
       "      <td>2648</td>\n",
       "      <td>2629</td>\n",
       "      <td>2646</td>\n",
       "      <td>2653</td>\n",
       "      <td>2664</td>\n",
       "      <td>2662</td>\n",
       "      <td>2668</td>\n",
       "      <td>2656</td>\n",
       "      <td>2672</td>\n",
       "      <td>2652</td>\n",
       "      <td>2653</td>\n",
       "    </tr>\n",
       "    <tr>\n",
       "      <th>Mariager</th>\n",
       "      <td>2490</td>\n",
       "      <td>2510</td>\n",
       "      <td>2527</td>\n",
       "      <td>2558</td>\n",
       "      <td>2558</td>\n",
       "      <td>2589</td>\n",
       "      <td>2555</td>\n",
       "      <td>2519</td>\n",
       "      <td>2543</td>\n",
       "      <td>2517</td>\n",
       "      <td>2516</td>\n",
       "      <td>2503</td>\n",
       "    </tr>\n",
       "  </tbody>\n",
       "</table>\n",
       "</div>"
      ],
      "text/plain": [
       "                2017   2016   2015   2014   2013   2012   2011   2010   2009  \\\n",
       "City                                                                           \n",
       "Frederikshavn  23501  23402  23345  23156  23309  23295  23339  23331  23511   \n",
       "Korsør         14702  14603  14392  14369  14501  14538  14412  14439  14589   \n",
       "Rønne          13723  13639  13579  13568  13730  13887  13904  13924  14031   \n",
       "Nakskov        12758  12688  12665  12866  13243  13332  13560  13697  13886   \n",
       "Struer         10375  10415  10285  10261  10427  10544  10572  10797  10873   \n",
       "Nykøbing M      9135   9012   9014   9031   9040   9222   9154   9172   9198   \n",
       "Hundested       8588   8595   8543   8579   8632   8732   8861   8832   8867   \n",
       "Skagen          8088   8124   8211   8198   8220   8347   8515   8636   8750   \n",
       "Tønder          7693   7587   7543   7595   7572   7685   7690   7743   7787   \n",
       "Vojens          7627   7579   7650   7655   7611   7666   7694   7735   7714   \n",
       "Faaborg         7097   7178   7150   7178   7249   7200   7178   7217   7207   \n",
       "Lemvig          6936   6929   6966   7031   7141   7131   7140   7195   7151   \n",
       "Nordborg        5970   5967   6079   6191   6447   6650   6730   6860   7089   \n",
       "Hirtshals       5880   5910   5879   5959   6028   6140   6194   6268   6310   \n",
       "Hadsund         4857   4869   4913   4883   4912   4994   5040   5028   5016   \n",
       "Rudkøbing       4586   4529   4513   4537   4547   4646   4697   4641   4658   \n",
       "Sakskøbing      4545   4541   4519   4539   4565   4708   4701   4732   4784   \n",
       "Padborg         4389   4393   4406   4455   4459   4476   4486   4552   4607   \n",
       "Vodskov         4292   4381   4456   4371   4295   4374   4399   4414   4370   \n",
       "Løgstør         4104   4114   4220   4284   4271   4300   4357   4412   4367   \n",
       "Ølgod           3892   3857   3853   3831   3920   3926   3950   4021   3995   \n",
       "Stege           3813   3844   3841   3830   3826   3835   3823   3856   3928   \n",
       "Nexø            3654   3647   3642   3686   3660   3700   3762   3732   3769   \n",
       "Gistrup         3579   3582   3544   3509   3501   3478   3573   3550   3570   \n",
       "Toftlund        3283   3281   3232   3297   3311   3328   3324   3284   3343   \n",
       "Augustenborg    3245   3288   3270   3284   3331   3233   3279   3255   3310   \n",
       "Thurø           3232   3223   3244   3270   3302   3328   3383   3413   3427   \n",
       "Sindal          3069   3055   3058   3066   3079   3090   3081   3036   3043   \n",
       "Hvide Sande     3045   3059   3015   3046   3077   3059   3110   3170   3156   \n",
       "Sundby          2843   2820   2797   2847   2817   2842   2872   2873   2873   \n",
       "Tinglev         2803   2761   2749   2729   2771   2784   2816   2844   2867   \n",
       "Hurup           2745   2773   2757   2765   2772   2789   2803   2752   2789   \n",
       "Brovst          2733   2770   2763   2755   2776   2804   2778   2783   2781   \n",
       "Kibæk           2624   2648   2629   2646   2653   2664   2662   2668   2656   \n",
       "Mariager        2490   2510   2527   2558   2558   2589   2555   2519   2543   \n",
       "\n",
       "                2008   2007   2006  \n",
       "City                                \n",
       "Frederikshavn  23551  23499  23636  \n",
       "Korsør         14659  14773  14850  \n",
       "Rønne          14056  13990  14043  \n",
       "Nakskov        14013  14051  14240  \n",
       "Struer         10846  10809  10957  \n",
       "Nykøbing M      9189   9136   9225  \n",
       "Hundested       8917   8874   8892  \n",
       "Skagen          8941   9187   9380  \n",
       "Tønder          7831   7792   7896  \n",
       "Vojens          7749   7843   7864  \n",
       "Faaborg         7222   7265   7234  \n",
       "Lemvig          7148   7134   7128  \n",
       "Nordborg        7157   7175   7248  \n",
       "Hirtshals       6346   6398   6475  \n",
       "Hadsund         5068   5040   5062  \n",
       "Rudkøbing       4647   4692   4717  \n",
       "Sakskøbing      4762   4804   4815  \n",
       "Padborg         4585   4581   4534  \n",
       "Vodskov         4469   4371   4374  \n",
       "Løgstør         4389   4409   4434  \n",
       "Ølgod           3965   3974   4042  \n",
       "Stege           3973   3976   4043  \n",
       "Nexø            3833   3867   3772  \n",
       "Gistrup         3590   3631   3660  \n",
       "Toftlund        3352   3344   3361  \n",
       "Augustenborg    3315   3322   3247  \n",
       "Thurø           3410   3425   3377  \n",
       "Sindal          3052   3036   3097  \n",
       "Hvide Sande     3132   3156   3197  \n",
       "Sundby          2905   2887   2873  \n",
       "Tinglev         2843   2837   2842  \n",
       "Hurup           2753   2765   2794  \n",
       "Brovst          2805   2777   2749  \n",
       "Kibæk           2672   2652   2653  \n",
       "Mariager        2517   2516   2503  "
      ]
     },
     "execution_count": 35,
     "metadata": {},
     "output_type": "execute_result"
    }
   ],
   "source": [
    "decreased = df.loc[(df['2017'] - df['2006']) < 0]\n",
    "\n",
    "decreased"
   ]
  },
  {
   "cell_type": "markdown",
   "metadata": {
    "slideshow": {
     "slide_type": "subslide"
    }
   },
   "source": [
    "### Save to CSV\n",
    "\n",
    "If you want to save your data frame to a csv file just use `pd.to_csv()`:"
   ]
  },
  {
   "cell_type": "code",
   "execution_count": 36,
   "metadata": {
    "slideshow": {
     "slide_type": "-"
    }
   },
   "outputs": [],
   "source": [
    "decreased.to_csv('examples/dk_cities/data/decreased.csv')"
   ]
  },
  {
   "cell_type": "markdown",
   "metadata": {
    "slideshow": {
     "slide_type": "subslide"
    }
   },
   "source": [
    "### Exercise\n",
    "\n",
    "On average, what was the population increase/decrease in Danish cities between 2006 and 2017?\n",
    "\n",
    "Group the results by the city population: 0-10000, 10000-50000, 50000-"
   ]
  }
 ],
 "metadata": {
  "kernelspec": {
   "display_name": "Python 3",
   "language": "python",
   "name": "python3"
  },
  "language_info": {
   "codemirror_mode": {
    "name": "ipython",
    "version": 3
   },
   "file_extension": ".py",
   "mimetype": "text/x-python",
   "name": "python",
   "nbconvert_exporter": "python",
   "pygments_lexer": "ipython3",
   "version": "3.6.5"
  }
 },
 "nbformat": 4,
 "nbformat_minor": 2
}
