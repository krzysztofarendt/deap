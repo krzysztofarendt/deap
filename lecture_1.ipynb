{
 "cells": [
  {
   "cell_type": "markdown",
   "metadata": {
    "slideshow": {
     "slide_type": "skip"
    }
   },
   "source": [
    "To generate a presentation run the following command:\n",
    "\n",
    "``jupyter nbconvert Lecture_1.ipynb --to slides --post serve``"
   ]
  },
  {
   "cell_type": "markdown",
   "metadata": {
    "slideshow": {
     "slide_type": "slide"
    }
   },
   "source": [
    "# How to use this notebook\n",
    "\n",
    "This notebook serves as both a presentation and interactive environment for students to experiment with Python. If you run it in the interactive mode using [Binder](https://mybinder.org/v2/gh/krzysztofarendt/deap/master), you can modify all code cells. Press `Shift+Enter` to run the modified code.\n",
    "\n",
    "Link to the repository: https://github.com/krzysztofarendt/deap \n"
   ]
  },
  {
   "cell_type": "markdown",
   "metadata": {
    "slideshow": {
     "slide_type": "slide"
    }
   },
   "source": [
    "# Python as a language\n",
    "\n",
    "Unlike natural languages (like English, Danish), programming langauges are very limited in terms of the number of \"available\" words. Such available (or better - reserved) words are named **keywords**. The keywords of the Python language are as follows:\n",
    "\n",
    "`and`, `del`, `global`, `not`, `with`,<br>\n",
    "`as`, `elif`, `if`, `or`, `yield`,<br>\n",
    "`assert`, `else`, `import`, `pass`,<br>\n",
    "`break`, `except`, `in`, `raise`,<br>\n",
    "`class`, `finally`, `is`, `return`,<br>\n",
    "`continue`, `for`, `lambda`, `try`,<br>\n",
    "`def`, `from`, `nonlocal`, `while`.\n",
    "\n",
    "These are just 30 words! For comparison, there are 200,000-300,000 words in the Danish dictionary (Ordbog over det danske Sprog)."
   ]
  },
  {
   "cell_type": "markdown",
   "metadata": {
    "slideshow": {
     "slide_type": "subslide"
    }
   },
   "source": [
    "- In addition to Python **keywords**, Python has some built-in functions, that are always available.\n",
    "- In example the function ``print()`` is used to print something on screen.\n",
    "- The list of all built-in functions is here: https://docs.python.org/3/library/functions.html"
   ]
  },
  {
   "cell_type": "markdown",
   "metadata": {
    "slideshow": {
     "slide_type": "slide"
    }
   },
   "source": [
    "# First program\n",
    "\n",
    "It is common to start learning any programming language by writing a \"Hello World!\" program. In Python it looks as follows:"
   ]
  },
  {
   "cell_type": "code",
   "execution_count": 1,
   "metadata": {
    "slideshow": {
     "slide_type": "-"
    }
   },
   "outputs": [
    {
     "name": "stdout",
     "output_type": "stream",
     "text": [
      "Hello World!\n"
     ]
    }
   ],
   "source": [
    "print(\"Hello World!\")"
   ]
  },
  {
   "cell_type": "markdown",
   "metadata": {
    "slideshow": {
     "slide_type": "subslide"
    }
   },
   "source": [
    "In this notebook Python is run in an interactive mode using [IPython](https://ipython.org/) (Interactive Python). You can, however, create *scripts* and run them using standard Python interpreter. To do so:\n",
    "- create a new text file ``my_first_script.py`` (the extension is important!),\n",
    "- write ``print(\"Hello World!\")`` in the first line,\n",
    "- save the file,\n",
    "- open command line in the folder containing the script,\n",
    "- run ``python my_first_script.py``.\n",
    "\n",
    "You need Python to be in your PATH to run the command. On **Windows**, use Anaconda Prompt. On **MacOS**, follow the [documentation](https://conda.io/docs/user-guide/install/macos.html). On **Linux** (Ubuntu and Debian), you need to adapt and add the following line to ``~/.bashrc``: ``. /home/your_user/anaconda3/etc/profile.d/conda.sh``."
   ]
  },
  {
   "cell_type": "markdown",
   "metadata": {
    "slideshow": {
     "slide_type": "slide"
    }
   },
   "source": [
    "# Comments\n",
    "\n",
    "It is very important to comment your code, as it makes it easier to read. In this particular example the comment is probably redundant, but it shows the concept:"
   ]
  },
  {
   "cell_type": "code",
   "execution_count": 2,
   "metadata": {
    "slideshow": {
     "slide_type": "-"
    }
   },
   "outputs": [
    {
     "name": "stdout",
     "output_type": "stream",
     "text": [
      "Hello World!\n"
     ]
    }
   ],
   "source": [
    "print(\"Hello World!\")  # This line prints \"Hello World!\""
   ]
  },
  {
   "cell_type": "markdown",
   "metadata": {
    "slideshow": {
     "slide_type": "slide"
    }
   },
   "source": [
    "# Variables\n",
    "\n",
    "In order to be able to do anything useful, we need temporary placeholders for different objects, e.g. numbers. These placeholders are called *variables*.\n",
    "\n",
    "A variable can store any object, e.g. an integer, a float, a string (text), or something more complex like a list of objects."
   ]
  },
  {
   "cell_type": "code",
   "execution_count": 3,
   "metadata": {
    "slideshow": {
     "slide_type": "subslide"
    }
   },
   "outputs": [
    {
     "name": "stdout",
     "output_type": "stream",
     "text": [
      "3\n",
      "2\n",
      "1\n"
     ]
    }
   ],
   "source": [
    "a = 1\n",
    "b = 2\n",
    "c = a  # We copied 'a' to 'c'\n",
    "a = 3  # We've just overriden the old value!\n",
    "\n",
    "print(a)\n",
    "print(b)\n",
    "print(c)"
   ]
  },
  {
   "cell_type": "markdown",
   "metadata": {
    "slideshow": {
     "slide_type": "subslide"
    }
   },
   "source": [
    "Variables can have different names, but:\n",
    "- cannot **start with numbers**,\n",
    "- cannot contain special signs (¤, &, {, }, and similar), except **underscore** (_),\n",
    "\n",
    "In addition:\n",
    "- shouldn't overlap with **keywords** and **built-in functions**,\n",
    "- by convention, **we don't use capital letters in variable names**,\n",
    "- by convention, **we don't start variable names with double underscore (__)** (more on this later)."
   ]
  },
  {
   "cell_type": "code",
   "execution_count": 4,
   "metadata": {
    "slideshow": {
     "slide_type": "-"
    }
   },
   "outputs": [
    {
     "name": "stdout",
     "output_type": "stream",
     "text": [
      "100\n",
      "200\n"
     ]
    }
   ],
   "source": [
    "this_is_a_valid_variable = 100\n",
    "This_is_Valid_But_Not_Preferred = 200\n",
    "\n",
    "print(this_is_a_valid_variable)\n",
    "print(This_is_Valid_But_Not_Preferred)"
   ]
  },
  {
   "cell_type": "code",
   "execution_count": 5,
   "metadata": {
    "slideshow": {
     "slide_type": "subslide"
    }
   },
   "outputs": [
    {
     "ename": "SyntaxError",
     "evalue": "invalid syntax (<ipython-input-5-3a782a315184>, line 1)",
     "output_type": "error",
     "traceback": [
      "\u001b[1;36m  File \u001b[1;32m\"<ipython-input-5-3a782a315184>\"\u001b[1;36m, line \u001b[1;32m1\u001b[0m\n\u001b[1;33m    5a = 0\u001b[0m\n\u001b[1;37m     ^\u001b[0m\n\u001b[1;31mSyntaxError\u001b[0m\u001b[1;31m:\u001b[0m invalid syntax\n"
     ]
    }
   ],
   "source": [
    "5a = 0"
   ]
  },
  {
   "cell_type": "code",
   "execution_count": 6,
   "metadata": {
    "slideshow": {
     "slide_type": "subslide"
    }
   },
   "outputs": [
    {
     "ename": "TypeError",
     "evalue": "'str' object is not callable",
     "output_type": "error",
     "traceback": [
      "\u001b[1;31m------------------------------------------------------------------\u001b[0m",
      "\u001b[1;31mTypeError\u001b[0m                        Traceback (most recent call last)",
      "\u001b[1;32m<ipython-input-6-8499c740d018>\u001b[0m in \u001b[0;36m<module>\u001b[1;34m()\u001b[0m\n\u001b[0;32m      1\u001b[0m \u001b[0mprint\u001b[0m \u001b[1;33m=\u001b[0m \u001b[1;34m\"Ha ha, you can't print anymore!\"\u001b[0m\u001b[1;33m\u001b[0m\u001b[0m\n\u001b[1;32m----> 2\u001b[1;33m \u001b[0mprint\u001b[0m\u001b[1;33m(\u001b[0m\u001b[1;34m\"I don't believe you!\"\u001b[0m\u001b[1;33m)\u001b[0m\u001b[1;33m\u001b[0m\u001b[0m\n\u001b[0m",
      "\u001b[1;31mTypeError\u001b[0m: 'str' object is not callable"
     ]
    }
   ],
   "source": [
    "print = \"Ha ha, you can't print anymore!\"\n",
    "print(\"I don't believe you!\")"
   ]
  },
  {
   "cell_type": "code",
   "execution_count": 7,
   "metadata": {
    "slideshow": {
     "slide_type": "-"
    }
   },
   "outputs": [
    {
     "name": "stdout",
     "output_type": "stream",
     "text": [
      "Yay, it works again!\n"
     ]
    }
   ],
   "source": [
    "# Let's undo this horrible mistake\n",
    "del print  # Deletes an existing variable (it must exist)\n",
    "\n",
    "print(\"Yay, it works again!\")"
   ]
  },
  {
   "cell_type": "markdown",
   "metadata": {
    "slideshow": {
     "slide_type": "slide"
    }
   },
   "source": [
    "# Expressions\n",
    "\n",
    "Storing variables and just printing them isn't still very useful. We need also *expressions*, e.g. for performing some arithmetic operations."
   ]
  },
  {
   "cell_type": "code",
   "execution_count": 8,
   "metadata": {
    "slideshow": {
     "slide_type": "fragment"
    }
   },
   "outputs": [
    {
     "data": {
      "text/plain": [
       "3"
      ]
     },
     "execution_count": 8,
     "metadata": {},
     "output_type": "execute_result"
    }
   ],
   "source": [
    "1 + 2  # Sum"
   ]
  },
  {
   "cell_type": "code",
   "execution_count": 9,
   "metadata": {
    "slideshow": {
     "slide_type": "fragment"
    }
   },
   "outputs": [
    {
     "data": {
      "text/plain": [
       "5"
      ]
     },
     "execution_count": 9,
     "metadata": {},
     "output_type": "execute_result"
    }
   ],
   "source": [
    "a + b  # a and b were assigned earlier"
   ]
  },
  {
   "cell_type": "code",
   "execution_count": 10,
   "metadata": {
    "slideshow": {
     "slide_type": "fragment"
    }
   },
   "outputs": [
    {
     "name": "stdout",
     "output_type": "stream",
     "text": [
      "3.0\n"
     ]
    }
   ],
   "source": [
    "a = 1.\n",
    "b = 2.\n",
    "c = a + b\n",
    "print(c)"
   ]
  },
  {
   "cell_type": "code",
   "execution_count": 11,
   "metadata": {
    "slideshow": {
     "slide_type": "subslide"
    }
   },
   "outputs": [
    {
     "data": {
      "text/plain": [
       "-5"
      ]
     },
     "execution_count": 11,
     "metadata": {},
     "output_type": "execute_result"
    }
   ],
   "source": [
    "5 - 10  # Subtraction"
   ]
  },
  {
   "cell_type": "code",
   "execution_count": 12,
   "metadata": {
    "slideshow": {
     "slide_type": "fragment"
    }
   },
   "outputs": [
    {
     "data": {
      "text/plain": [
       "50"
      ]
     },
     "execution_count": 12,
     "metadata": {},
     "output_type": "execute_result"
    }
   ],
   "source": [
    "5 * 10  # Multiplication"
   ]
  },
  {
   "cell_type": "code",
   "execution_count": 13,
   "metadata": {
    "slideshow": {
     "slide_type": "fragment"
    }
   },
   "outputs": [
    {
     "data": {
      "text/plain": [
       "16"
      ]
     },
     "execution_count": 13,
     "metadata": {},
     "output_type": "execute_result"
    }
   ],
   "source": [
    "4 ** 2  # Power"
   ]
  },
  {
   "cell_type": "code",
   "execution_count": 14,
   "metadata": {
    "slideshow": {
     "slide_type": "fragment"
    }
   },
   "outputs": [
    {
     "data": {
      "text/plain": [
       "2.0"
      ]
     },
     "execution_count": 14,
     "metadata": {},
     "output_type": "execute_result"
    }
   ],
   "source": [
    "4 ** 0.5  # Power / square root"
   ]
  },
  {
   "cell_type": "code",
   "execution_count": 15,
   "metadata": {
    "slideshow": {
     "slide_type": "fragment"
    }
   },
   "outputs": [
    {
     "data": {
      "text/plain": [
       "3.0"
      ]
     },
     "execution_count": 15,
     "metadata": {},
     "output_type": "execute_result"
    }
   ],
   "source": [
    "9 / 3  # Division"
   ]
  },
  {
   "cell_type": "code",
   "execution_count": 16,
   "metadata": {
    "slideshow": {
     "slide_type": "subslide"
    }
   },
   "outputs": [
    {
     "name": "stdout",
     "output_type": "stream",
     "text": [
      "a = 3\n",
      "b = 3\n",
      "c = 1\n"
     ]
    }
   ],
   "source": [
    "a = 9 // 3   # Floor division\n",
    "b = 10 // 3  # Floor division\n",
    "c = 10 % 3   # Modulus operator (returns remainder of the floor division)\n",
    "\n",
    "print('a =', a)\n",
    "print('b =', b)\n",
    "print('c =', c)"
   ]
  },
  {
   "cell_type": "code",
   "execution_count": 17,
   "metadata": {
    "slideshow": {
     "slide_type": "subslide"
    }
   },
   "outputs": [
    {
     "name": "stdout",
     "output_type": "stream",
     "text": [
      "a = 11\n",
      "b = 15\n"
     ]
    }
   ],
   "source": [
    "# Order of operations\n",
    "a = 2 + 3 * 3\n",
    "b = (2 + 3) * 3\n",
    "\n",
    "print('a =', a)\n",
    "print('b =', b)"
   ]
  },
  {
   "cell_type": "code",
   "execution_count": 18,
   "metadata": {
    "slideshow": {
     "slide_type": "subslide"
    }
   },
   "outputs": [
    {
     "ename": "SyntaxError",
     "evalue": "invalid syntax (<ipython-input-18-cce7f4f65f8e>, line 3)",
     "output_type": "error",
     "traceback": [
      "\u001b[1;36m  File \u001b[1;32m\"<ipython-input-18-cce7f4f65f8e>\"\u001b[1;36m, line \u001b[1;32m3\u001b[0m\n\u001b[1;33m    c = 3a     # Not allowed!\u001b[0m\n\u001b[1;37m         ^\u001b[0m\n\u001b[1;31mSyntaxError\u001b[0m\u001b[1;31m:\u001b[0m invalid syntax\n"
     ]
    }
   ],
   "source": [
    "a = 2      # Assign 2 to a\n",
    "b = 3 * a  # b equals 6\n",
    "c = 3a     # Not allowed!"
   ]
  },
  {
   "cell_type": "markdown",
   "metadata": {
    "slideshow": {
     "slide_type": "slide"
    }
   },
   "source": [
    "# Values and types\n",
    "\n",
    "- A variable can hold objects of different types.\n",
    "- In many compiled languages, like Java or C++, the type of a variable has to be specified during assignment and cannot change.\n",
    "- In Python the type is inferred and can change, e.g. a variable can hold an integer first, but a float (floating-point number) later.\n",
    "\n",
    "The basic data types in Python are:"
   ]
  },
  {
   "cell_type": "code",
   "execution_count": 22,
   "metadata": {
    "slideshow": {
     "slide_type": "-"
    }
   },
   "outputs": [],
   "source": [
    "a = 1   # Integer\n",
    "b = 1.  # Floating-point number (real number)\n",
    "c = 'Hello!'                                  # String\n",
    "d = \"How are you?\"                            # String\n",
    "e = \"String with single quote (') character\"  # String\n",
    "f = 'String with double quote (\") character'  # String\n",
    "g = True          # Boolean\n",
    "h = False         # Boolean\n",
    "i = 2 + 3j        # Complex numbers \n",
    "j = [1, 2, 3, 4]  # List\n",
    "k = (1, 2, 3, 4)  # Tuple (immutable list)\n",
    "l = {'a': 1, 'b': 2, 'c': 3}  # Dictionary"
   ]
  },
  {
   "cell_type": "code",
   "execution_count": 23,
   "metadata": {
    "slideshow": {
     "slide_type": "subslide"
    }
   },
   "outputs": [
    {
     "name": "stdout",
     "output_type": "stream",
     "text": [
      "a <class 'str'>\n",
      "1 <class 'int'>\n",
      "1.0 <class 'float'>\n",
      "True <class 'bool'>\n",
      "1j <class 'complex'>\n"
     ]
    }
   ],
   "source": [
    "# Type of a variable can change - it is inferred\n",
    "a = \"a\"\n",
    "print(a, type(a))\n",
    "\n",
    "a = 1\n",
    "print(a, type(a))\n",
    "\n",
    "a = 1.\n",
    "print(a, type(a))\n",
    "\n",
    "a = True\n",
    "print(a, type(a))\n",
    "\n",
    "a = 1j\n",
    "print(a, type(a))"
   ]
  },
  {
   "cell_type": "markdown",
   "metadata": {
    "slideshow": {
     "slide_type": "subslide"
    }
   },
   "source": [
    "In the previous example we used a new built-in function `type()`. Remember, that you can always find documentation for any Python-related topic in the official documentation: https://docs.python.org/3/\n",
    "\n",
    "E.g. `type()` is described here: https://docs.python.org/3/library/functions.html#type\n",
    "\n",
    "In short:\n",
    "```python\n",
    "class type(object)\n",
    "```\n",
    "*With one argument, return the type of an object. The return value is a type object and generally the same object as returned by ``object.__class__``.*\n",
    "\n",
    "At this moment it may be difficult to read some docs, because of references to yet unknown concepts, like classes. It will get easier soon!"
   ]
  },
  {
   "cell_type": "markdown",
   "metadata": {
    "slideshow": {
     "slide_type": "subslide"
    }
   },
   "source": [
    "Numeric variables of different types (int, float, complex) can still be added, subtracted etc."
   ]
  },
  {
   "cell_type": "code",
   "execution_count": 24,
   "metadata": {
    "slideshow": {
     "slide_type": "-"
    }
   },
   "outputs": [
    {
     "name": "stdout",
     "output_type": "stream",
     "text": [
      "3.5\n",
      "(6.5+1j)\n"
     ]
    }
   ],
   "source": [
    "a = 1\n",
    "b = 2.5\n",
    "c = 3. + 1j\n",
    "\n",
    "print(a + b)\n",
    "print(a + b + c)"
   ]
  },
  {
   "cell_type": "markdown",
   "metadata": {
    "slideshow": {
     "slide_type": "subslide"
    }
   },
   "source": [
    "But e.g. strings and numbers cannot be added..."
   ]
  },
  {
   "cell_type": "code",
   "execution_count": 25,
   "metadata": {
    "slideshow": {
     "slide_type": "-"
    }
   },
   "outputs": [
    {
     "ename": "TypeError",
     "evalue": "must be str, not int",
     "output_type": "error",
     "traceback": [
      "\u001b[1;31m------------------------------------------------------------------\u001b[0m",
      "\u001b[1;31mTypeError\u001b[0m                        Traceback (most recent call last)",
      "\u001b[1;32m<ipython-input-25-e708b2378a08>\u001b[0m in \u001b[0;36m<module>\u001b[1;34m()\u001b[0m\n\u001b[1;32m----> 1\u001b[1;33m \u001b[1;34m\"5\"\u001b[0m \u001b[1;33m+\u001b[0m \u001b[1;36m2\u001b[0m\u001b[1;33m\u001b[0m\u001b[0m\n\u001b[0m",
      "\u001b[1;31mTypeError\u001b[0m: must be str, not int"
     ]
    }
   ],
   "source": [
    "\"5\" + 2"
   ]
  },
  {
   "cell_type": "markdown",
   "metadata": {
    "slideshow": {
     "slide_type": "fragment"
    }
   },
   "source": [
    "...unless you explicitly convert the types to compatible types:"
   ]
  },
  {
   "cell_type": "code",
   "execution_count": 26,
   "metadata": {
    "slideshow": {
     "slide_type": "-"
    }
   },
   "outputs": [
    {
     "data": {
      "text/plain": [
       "9.5"
      ]
     },
     "execution_count": 26,
     "metadata": {},
     "output_type": "execute_result"
    }
   ],
   "source": [
    "int(\"5\") + float(\"3.5\") + 1"
   ]
  },
  {
   "cell_type": "code",
   "execution_count": 27,
   "metadata": {
    "slideshow": {
     "slide_type": "-"
    }
   },
   "outputs": [
    {
     "data": {
      "text/plain": [
       "'53.51'"
      ]
     },
     "execution_count": 27,
     "metadata": {},
     "output_type": "execute_result"
    }
   ],
   "source": [
    "str(5) + str(3.5) + str(1)"
   ]
  },
  {
   "cell_type": "markdown",
   "metadata": {
    "slideshow": {
     "slide_type": "slide"
    }
   },
   "source": [
    "# Conditional execution\n",
    "\n",
    "You can now use Python as a simple calculator. To write useful programs you'll also need to execute different code depending on some predefined conditions. In many languages, including Python, there is an ``if ... else ...`` statement, that is used exactly for this purpose. E.g.:"
   ]
  },
  {
   "cell_type": "code",
   "execution_count": 28,
   "metadata": {
    "slideshow": {
     "slide_type": "fragment"
    }
   },
   "outputs": [
    {
     "name": "stdout",
     "output_type": "stream",
     "text": [
      "Naaah, that's way too expensive!\n"
     ]
    }
   ],
   "source": [
    "price = 1000\n",
    "\n",
    "if price > 200:\n",
    "    print(\"Naaah, that's way too expensive!\")\n",
    "else:\n",
    "    print(\"OK, give me some!\")"
   ]
  },
  {
   "cell_type": "markdown",
   "metadata": {
    "slideshow": {
     "slide_type": "subslide"
    }
   },
   "source": [
    "- Note that the code inside ``if ... else ...`` is indented with **exactly** 4 spaces.\n",
    "- Python differs from most other languages in this respect. Each piece of code inside ``if ... else ...`` or inside loops (explained later) must be indented!\n",
    "- By convention, we use **exactly** 4 spaces. Many IDEs rely on this assumption, including Jupyter Notebook (wrong coloring if indented less than 4 spaces).\n",
    "- This rule may seem very specific and unnecessary now, but it actually makes Python code very easy to read, because:\n",
    "    * the indentation is always the same, no matter who wrote the code,\n",
    "    * there is less writing than in other languages, e.g. in C-like languages you need enclose the code with braces {...}.\n",
    "    \n",
    "Try to modify the indentation in this code:"
   ]
  },
  {
   "cell_type": "code",
   "execution_count": 35,
   "metadata": {
    "slideshow": {
     "slide_type": "fragment"
    }
   },
   "outputs": [
    {
     "ename": "IndentationError",
     "evalue": "expected an indented block (<ipython-input-35-d7e5f7b9760a>, line 2)",
     "output_type": "error",
     "traceback": [
      "\u001b[1;36m  File \u001b[1;32m\"<ipython-input-35-d7e5f7b9760a>\"\u001b[1;36m, line \u001b[1;32m2\u001b[0m\n\u001b[1;33m    print('I will still give it a try!')\u001b[0m\n\u001b[1;37m        ^\u001b[0m\n\u001b[1;31mIndentationError\u001b[0m\u001b[1;31m:\u001b[0m expected an indented block\n"
     ]
    }
   ],
   "source": [
    "if True:\n",
    "print('I will still give it a try!')"
   ]
  },
  {
   "cell_type": "markdown",
   "metadata": {
    "slideshow": {
     "slide_type": "subslide"
    }
   },
   "source": [
    "There may be more than one conditions:"
   ]
  },
  {
   "cell_type": "code",
   "execution_count": 39,
   "metadata": {
    "slideshow": {
     "slide_type": "-"
    }
   },
   "outputs": [
    {
     "name": "stdout",
     "output_type": "stream",
     "text": [
      "Ok, I can take one...\n"
     ]
    }
   ],
   "source": [
    "price = 1000\n",
    "mood_for_spending = True\n",
    "\n",
    "if price < 200:\n",
    "    print('Shut up and take my money!')\n",
    "elif (price > 200) and (price < 1200) and mood_for_spending:  # There can be more 'elif' statements\n",
    "    print('Ok, I can take one...')\n",
    "else:  # There can be only one 'else' statement\n",
    "    print('Nope!')"
   ]
  },
  {
   "cell_type": "markdown",
   "metadata": {
    "slideshow": {
     "slide_type": "slide"
    }
   },
   "source": [
    "# Bolean expressions\n",
    "\n",
    "*Boolean expressions* are expressions that are either ``True`` or ``False`` (these are the special values that belong to the class ``bool``). In example:"
   ]
  },
  {
   "cell_type": "code",
   "execution_count": 19,
   "metadata": {
    "slideshow": {
     "slide_type": "fragment"
    }
   },
   "outputs": [
    {
     "data": {
      "text/plain": [
       "True"
      ]
     },
     "execution_count": 19,
     "metadata": {},
     "output_type": "execute_result"
    }
   ],
   "source": [
    "3 == 3  # Check if 3 is equal 3"
   ]
  },
  {
   "cell_type": "code",
   "execution_count": 20,
   "metadata": {
    "slideshow": {
     "slide_type": "fragment"
    }
   },
   "outputs": [
    {
     "data": {
      "text/plain": [
       "False"
      ]
     },
     "execution_count": 20,
     "metadata": {},
     "output_type": "execute_result"
    }
   ],
   "source": [
    "3 == 4  # Check if 3 is equal 4"
   ]
  },
  {
   "cell_type": "code",
   "execution_count": 21,
   "metadata": {
    "slideshow": {
     "slide_type": "fragment"
    }
   },
   "outputs": [
    {
     "data": {
      "text/plain": [
       "True"
      ]
     },
     "execution_count": 21,
     "metadata": {},
     "output_type": "execute_result"
    }
   ],
   "source": [
    "3 != 4  # Check if 3 is not equal 4"
   ]
  },
  {
   "cell_type": "markdown",
   "metadata": {
    "slideshow": {
     "slide_type": "subslide"
    }
   },
   "source": [
    "There are several *comparison operators* that can be used in boolean expressions:\n",
    "\n",
    "```python\n",
    "x == y               # x is equal to y\n",
    "x != y               # x is not equal to y\n",
    "x > y                # x is greater than y\n",
    "x < y                # x is less than y\n",
    "x >= y               # x is greater than or equal to y\n",
    "x <= y               # x is less than or equal to y\n",
    "x is y               # x is the same as y\n",
    "x is not y           # x is not the same as y\n",
    "```\n",
    "\n",
    "The difference between ``==`` and ``is`` might be confusing for some time, but it will become clearer after you learn a bit about classes. In general ``==`` is used to compare *values*, whereas ``is`` is used to check whether two objects are in fact the same object."
   ]
  },
  {
   "cell_type": "code",
   "execution_count": 22,
   "metadata": {
    "slideshow": {
     "slide_type": "subslide"
    }
   },
   "outputs": [
    {
     "data": {
      "text/plain": [
       "True"
      ]
     },
     "execution_count": 22,
     "metadata": {},
     "output_type": "execute_result"
    }
   ],
   "source": [
    "# Take your time to experiment yourself\n",
    "x = 1.1\n",
    "y = 1.2\n",
    "\n",
    "x <= y"
   ]
  },
  {
   "cell_type": "code",
   "execution_count": 23,
   "metadata": {
    "slideshow": {
     "slide_type": "-"
    }
   },
   "outputs": [
    {
     "data": {
      "text/plain": [
       "True"
      ]
     },
     "execution_count": 23,
     "metadata": {},
     "output_type": "execute_result"
    }
   ],
   "source": [
    "# Remember that floats have limited accuracy!\n",
    "x = 1.0000000000000000001\n",
    "y = 1.00000000000000000001\n",
    "\n",
    "x == y"
   ]
  },
  {
   "cell_type": "code",
   "execution_count": 28,
   "metadata": {
    "slideshow": {
     "slide_type": "subslide"
    }
   },
   "outputs": [
    {
     "name": "stdout",
     "output_type": "stream",
     "text": [
      "1 is larger than False\n"
     ]
    }
   ],
   "source": [
    "if 1 > False:\n",
    "    print(\"1 is larger than False\")  # False is implemented as \"0\" under the hood"
   ]
  },
  {
   "cell_type": "code",
   "execution_count": 32,
   "metadata": {
    "slideshow": {
     "slide_type": "fragment"
    }
   },
   "outputs": [
    {
     "name": "stdout",
     "output_type": "stream",
     "text": [
      "1 is not True\n",
      "But 1 == True\n"
     ]
    }
   ],
   "source": [
    "# But (1 is not True) and (0 is not False)\n",
    "if 1 is True:\n",
    "    print(\"1 is True\")\n",
    "else:\n",
    "    print(\"1 is not True\")\n",
    "    if 1 == True:\n",
    "        print(\"But 1 == True\")"
   ]
  },
  {
   "cell_type": "markdown",
   "metadata": {
    "slideshow": {
     "slide_type": "subslide"
    }
   },
   "source": [
    "### ``==`` vs. ``is``"
   ]
  },
  {
   "cell_type": "code",
   "execution_count": 1,
   "metadata": {
    "slideshow": {
     "slide_type": "-"
    }
   },
   "outputs": [
    {
     "data": {
      "text/plain": [
       "True"
      ]
     },
     "execution_count": 1,
     "metadata": {},
     "output_type": "execute_result"
    }
   ],
   "source": [
    "x = True\n",
    "y = True\n",
    "\n",
    "x == y"
   ]
  },
  {
   "cell_type": "code",
   "execution_count": 2,
   "metadata": {
    "slideshow": {
     "slide_type": "-"
    }
   },
   "outputs": [
    {
     "data": {
      "text/plain": [
       "True"
      ]
     },
     "execution_count": 2,
     "metadata": {},
     "output_type": "execute_result"
    }
   ],
   "source": [
    "x is y  # \"is\" sometimes gives the same output as \"==\""
   ]
  },
  {
   "cell_type": "code",
   "execution_count": 4,
   "metadata": {
    "slideshow": {
     "slide_type": "subslide"
    }
   },
   "outputs": [
    {
     "data": {
      "text/plain": [
       "True"
      ]
     },
     "execution_count": 4,
     "metadata": {},
     "output_type": "execute_result"
    }
   ],
   "source": [
    "x = 1\n",
    "y = 1\n",
    "\n",
    "x == y"
   ]
  },
  {
   "cell_type": "code",
   "execution_count": 6,
   "metadata": {
    "slideshow": {
     "slide_type": "-"
    }
   },
   "outputs": [
    {
     "data": {
      "text/plain": [
       "True"
      ]
     },
     "execution_count": 6,
     "metadata": {},
     "output_type": "execute_result"
    }
   ],
   "source": [
    "x is y  # It's because there is only one object in Python representing the integer \"1\""
   ]
  },
  {
   "cell_type": "code",
   "execution_count": 10,
   "metadata": {
    "slideshow": {
     "slide_type": "subslide"
    }
   },
   "outputs": [
    {
     "data": {
      "text/plain": [
       "False"
      ]
     },
     "execution_count": 10,
     "metadata": {},
     "output_type": "execute_result"
    }
   ],
   "source": [
    "x = 1.0\n",
    "y = 1.0\n",
    "\n",
    "x is y  # But in most cases \"is\" gives different output than \"==\"!"
   ]
  },
  {
   "cell_type": "markdown",
   "metadata": {
    "slideshow": {
     "slide_type": "slide"
    }
   },
   "source": [
    "# Logical operators\n",
    "\n",
    "- There are three logical operators: ``and``, ``or``, and ``not``.\n",
    "- They're used to express relationship between multiple bolean expressions"
   ]
  },
  {
   "cell_type": "code",
   "execution_count": 33,
   "metadata": {
    "slideshow": {
     "slide_type": "-"
    }
   },
   "outputs": [
    {
     "name": "stdout",
     "output_type": "stream",
     "text": [
      "0 < x < 2\n"
     ]
    }
   ],
   "source": [
    "x = 1\n",
    "if (x > 0) and (x < 2):\n",
    "    print(\"0 < x < 2\")"
   ]
  },
  {
   "cell_type": "markdown",
   "metadata": {
    "slideshow": {
     "slide_type": "fragment"
    }
   },
   "source": [
    "Although there are specific rules about order of evaluation, it's a good idea to make things clear with parentheses:"
   ]
  },
  {
   "cell_type": "code",
   "execution_count": 1,
   "metadata": {
    "slideshow": {
     "slide_type": "-"
    }
   },
   "outputs": [
    {
     "name": "stdout",
     "output_type": "stream",
     "text": [
      "Well, that's just confusing...\n"
     ]
    }
   ],
   "source": [
    "x = 1\n",
    "y = False\n",
    "if (x > 0) and ((x != y) or (x is not y)) and not y:\n",
    "    print(\"Well, that's just confusing...\")"
   ]
  },
  {
   "cell_type": "markdown",
   "metadata": {
    "slideshow": {
     "slide_type": "slide"
    }
   },
   "source": [
    "# User input\n",
    "\n",
    "It's easy to ask a user for an input, just use `input()`:"
   ]
  },
  {
   "cell_type": "code",
   "execution_count": 2,
   "metadata": {
    "slideshow": {
     "slide_type": "-"
    }
   },
   "outputs": [
    {
     "name": "stdout",
     "output_type": "stream",
     "text": [
      "What is your age? 33\n",
      "Your age is 33\n",
      "You were born in 1985\n"
     ]
    }
   ],
   "source": [
    "age = input(\"What is your age? \")\n",
    "print(\"Your age is\", age)\n",
    "print(\"You were born in\", 2018 - int(age))  # Type of `age` must be converted from str to int"
   ]
  },
  {
   "cell_type": "markdown",
   "metadata": {
    "slideshow": {
     "slide_type": "slide"
    }
   },
   "source": [
    "# String formatting\n",
    "\n",
    "Many objects in Python have some default rules on how to print them:"
   ]
  },
  {
   "cell_type": "code",
   "execution_count": 3,
   "metadata": {
    "slideshow": {
     "slide_type": "-"
    }
   },
   "outputs": [
    {
     "name": "stdout",
     "output_type": "stream",
     "text": [
      "Just a text\n",
      "Just a text and a number 2\n",
      "Just a text and a number 2\n",
      "Just a text and a number 2.0\n"
     ]
    }
   ],
   "source": [
    "print(\"Just a text\")\n",
    "print(\"Just a text and a number 2\")\n",
    "print(\"Just a text and a number\", 2)\n",
    "print(\"Just a text and a number\", 2.)"
   ]
  },
  {
   "cell_type": "markdown",
   "metadata": {
    "slideshow": {
     "slide_type": "subslide"
    }
   },
   "source": [
    "For numeric objects you can specify your own formatting. It is especially useful for floating-point numbers:"
   ]
  },
  {
   "cell_type": "code",
   "execution_count": 22,
   "metadata": {
    "slideshow": {
     "slide_type": "-"
    }
   },
   "outputs": [
    {
     "name": "stdout",
     "output_type": "stream",
     "text": [
      "A number 1.12345678\n",
      "A number 1.123\n",
      "A number 001.123\n",
      "A number +01.123\n",
      "A number -01.123\n"
     ]
    }
   ],
   "source": [
    "print(\"A number {}\".format(1.12345678))\n",
    "print(\"A number {:.3f}\".format(1.12345678))\n",
    "print(\"A number {:07.3f}\".format(1.12345678))\n",
    "print(\"A number {:+07.3f}\".format(1.12345678))\n",
    "print(\"A number {:+07.3f}\".format(-1.12345678))"
   ]
  },
  {
   "cell_type": "markdown",
   "metadata": {
    "slideshow": {
     "slide_type": "-"
    }
   },
   "source": [
    "More info on Python string formatting: https://pyformat.info/"
   ]
  },
  {
   "cell_type": "markdown",
   "metadata": {
    "slideshow": {
     "slide_type": "slide"
    }
   },
   "source": [
    "# Exercises\n",
    "\n",
    "1. Write a program that (a) asks the user about three numbers, (b) calculates their mean, (c) prints a different sentence depending on whether the mean is positive or negative, e.g. \"The mean is X, and it is a positive/negative number\". Use at least 2 decimal digits to present the mean.\n",
    "\n",
    "2. Write a program asking for a grade. Print the comment based on the grade:\n",
    "\n",
    "| Danish mark | Explanation of the mark\n",
    "| ------------|------------------------\n",
    "| 12          | Excellent\n",
    "| 10          | Very good\n",
    "| 7           | Good\n",
    "| 4           | Fair\n",
    "| 02          | Adequate\n",
    "| 00          | Inadequate\n",
    "| -3          | Unacceptable"
   ]
  },
  {
   "cell_type": "markdown",
   "metadata": {
    "slideshow": {
     "slide_type": "slide"
    }
   },
   "source": [
    "# The End"
   ]
  }
 ],
 "metadata": {
  "kernelspec": {
   "display_name": "Python 3",
   "language": "python",
   "name": "python3"
  },
  "language_info": {
   "codemirror_mode": {
    "name": "ipython",
    "version": 3
   },
   "file_extension": ".py",
   "mimetype": "text/x-python",
   "name": "python",
   "nbconvert_exporter": "python",
   "pygments_lexer": "ipython3",
   "version": "3.6.5"
  }
 },
 "nbformat": 4,
 "nbformat_minor": 2
}
