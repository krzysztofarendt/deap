{
 "cells": [
  {
   "cell_type": "markdown",
   "metadata": {
    "slideshow": {
     "slide_type": "skip"
    }
   },
   "source": [
    "To generate a presentation run the following command:\n",
    "\n",
    "``jupyter nbconvert Lecture_5.ipynb --to slides --post serve``"
   ]
  },
  {
   "cell_type": "markdown",
   "metadata": {
    "slideshow": {
     "slide_type": "skip"
    }
   },
   "source": [
    "# How to use this notebook\n",
    "\n",
    "This notebook serves as both a presentation and interactive environment for students to experiment with Python. If you run it in the interactive mode using [Binder](https://mybinder.org/v2/gh/krzysztofarendt/deap/master), you can modify all code cells. Press `Shift+Enter` to run the modified code.\n",
    "\n",
    "Link to the repository: https://github.com/krzysztofarendt/deap "
   ]
  },
  {
   "cell_type": "markdown",
   "metadata": {
    "slideshow": {
     "slide_type": "slide"
    }
   },
   "source": [
    "# Lecture outline\n",
    "\n",
    "1. First glance at the object oriented programming and classes\n",
    "2. numpy library for vector/matrix operations\n",
    "3. matplotlib library for visualization"
   ]
  },
  {
   "cell_type": "markdown",
   "metadata": {
    "slideshow": {
     "slide_type": "slide"
    }
   },
   "source": [
    "# Classes\n",
    "\n",
    "Classes are templates for \"objects\" containing data (attributes) and methods (functions specific to those objects). Programming using classes is often referred to as Object-Oriented Programming (OOP). In OOP a programmer writes a code in which different objects interact with each other.\n",
    "\n",
    "Examples:\n",
    "- a car can be represented as an object with attributes like:\n",
    "    * current gear\n",
    "    * speed\n",
    "    * position\n",
    "- a car object could have methods for altering the car's state, e.g.:\n",
    "    * turn wheel\n",
    "    * accelerate"
   ]
  },
  {
   "cell_type": "markdown",
   "metadata": {
    "slideshow": {
     "slide_type": "subslide"
    }
   },
   "source": [
    "Undocumented example:"
   ]
  },
  {
   "cell_type": "code",
   "execution_count": 22,
   "metadata": {
    "slideshow": {
     "slide_type": "-"
    }
   },
   "outputs": [],
   "source": [
    "class Car():\n",
    "    \n",
    "    def __init__(self, x0, y0):\n",
    "        self.position = [x0, y0]\n",
    "    \n",
    "    def move(self, dx, dy):\n",
    "        print(\"Moving: dx={}, dy={}\".format(dx, dy))\n",
    "        self.position[0] += dx\n",
    "        self.position[1] += dy"
   ]
  },
  {
   "cell_type": "markdown",
   "metadata": {
    "slideshow": {
     "slide_type": "subslide"
    }
   },
   "source": [
    "Documented example:"
   ]
  },
  {
   "cell_type": "code",
   "execution_count": 1,
   "metadata": {
    "slideshow": {
     "slide_type": "-"
    }
   },
   "outputs": [],
   "source": [
    "class Car():  # <- TEMPLATE\n",
    "    \n",
    "    def __init__(self, x0, y0):\n",
    "        \"\"\"\n",
    "        Constructor\n",
    "        \n",
    "        :param x0: Initial x position\n",
    "        :param y0: Initial y position\n",
    "        \"\"\"\n",
    "        self.position = [x0, y0]\n",
    "    \n",
    "    def move(self, dx, dy):\n",
    "        \"\"\"\n",
    "        Method\n",
    "        \n",
    "        :param dx: x distance to move\n",
    "        :param dy: y distance to move\n",
    "        \"\"\"\n",
    "        print(\"Moving: dx={}, dy={}\".format(dx, dy))\n",
    "        self.position[0] += dx\n",
    "        self.position[1] += dy"
   ]
  },
  {
   "cell_type": "markdown",
   "metadata": {
    "slideshow": {
     "slide_type": "subslide"
    }
   },
   "source": [
    "Usage:"
   ]
  },
  {
   "cell_type": "code",
   "execution_count": 4,
   "metadata": {
    "slideshow": {
     "slide_type": "-"
    }
   },
   "outputs": [
    {
     "name": "stdout",
     "output_type": "stream",
     "text": [
      "Moving: dx=10, dy=5\n",
      "Car 1 - current position: [10, 5]\n",
      "Moving: dx=1, dy=1\n",
      "Car 2 - current position: [1, 1]\n",
      "Moving: dx=-3, dy=0\n",
      "Car 1 - current position: [7, 5]\n",
      "Moving: dx=-1, dy=-1\n",
      "Car 2 - current position: [0, 0]\n"
     ]
    }
   ],
   "source": [
    "c1 = Car(0, 0)  # <- INSTANCE 1\n",
    "c2 = Car(0, 0)  # <- INSTANCE 2\n",
    "\n",
    "c1.move(10, 5)\n",
    "print(\"Car 1 - current position:\", c1.position)\n",
    "c2.move(1, 1)\n",
    "print(\"Car 2 - current position:\", c2.position)\n",
    "c1.move(-3, 0)\n",
    "print(\"Car 1 - current position:\", c1.position)\n",
    "c2.move(-1, -1)\n",
    "print(\"Car 2 - current position:\", c2.position)"
   ]
  },
  {
   "cell_type": "markdown",
   "metadata": {
    "slideshow": {
     "slide_type": "subslide"
    }
   },
   "source": [
    "### Simple data frame example"
   ]
  },
  {
   "cell_type": "code",
   "execution_count": 5,
   "metadata": {
    "slideshow": {
     "slide_type": "subslide"
    }
   },
   "outputs": [],
   "source": [
    "class SimpleDataFrame():\n",
    "    \"\"\"Simple data frame example with a limited functionality.\n",
    "    \"\"\"\n",
    "    \n",
    "    def __init__(self, data):\n",
    "        # Tabular data stored in nested lists\n",
    "        self.data = data\n",
    "    \n",
    "    def get(self, row, col):\n",
    "        \"\"\"Return a cell.\n",
    "        \"\"\"\n",
    "        return self.data[row][col]\n",
    "    \n",
    "    def multiply(self, scalar):\n",
    "        \"\"\"Multiply by a scalar.\n",
    "        \"\"\"\n",
    "        self.data = [[x * scalar for x in r] for r in self.data]\n",
    "        return self\n",
    "    \n",
    "    def __str__(self):\n",
    "        \"\"\"Override the default method for printing the object.\n",
    "        \"\"\"\n",
    "        s = \"\"\n",
    "        \n",
    "        header = [\"x{}\".format(x) for x in range(len(self.data[0]))]\n",
    "        s += str(header) + \"\\n\"\n",
    "        \n",
    "        for row in self.data:\n",
    "            s += str(row) + \"\\n\"\n",
    "\n",
    "        return(s)"
   ]
  },
  {
   "cell_type": "code",
   "execution_count": 6,
   "metadata": {
    "slideshow": {
     "slide_type": "subslide"
    }
   },
   "outputs": [
    {
     "name": "stdout",
     "output_type": "stream",
     "text": [
      "Help on class SimpleDataFrame in module __main__:\n",
      "\n",
      "class SimpleDataFrame(builtins.object)\n",
      " |  Simple data frame example with a limited functionality.\n",
      " |  \n",
      " |  Methods defined here:\n",
      " |  \n",
      " |  __init__(self, data)\n",
      " |      Initialize self.  See help(type(self)) for accurate signature.\n",
      " |  \n",
      " |  __str__(self)\n",
      " |      Override the default method for printing the object.\n",
      " |  \n",
      " |  get(self, row, col)\n",
      " |      Return a cell.\n",
      " |  \n",
      " |  multiply(self, scalar)\n",
      " |      Multiply by a scalar.\n",
      " |  \n",
      " |  ----------------------------------------------------------------------\n",
      " |  Data descriptors defined here:\n",
      " |  \n",
      " |  __dict__\n",
      " |      dictionary for instance variables (if defined)\n",
      " |  \n",
      " |  __weakref__\n",
      " |      list of weak references to the object (if defined)\n",
      "\n"
     ]
    }
   ],
   "source": [
    "help(SimpleDataFrame)"
   ]
  },
  {
   "cell_type": "code",
   "execution_count": 7,
   "metadata": {
    "slideshow": {
     "slide_type": "subslide"
    }
   },
   "outputs": [
    {
     "name": "stdout",
     "output_type": "stream",
     "text": [
      "Simple data frame:\n",
      "['x0', 'x1', 'x2']\n",
      "[1, 2, 3]\n",
      "[4, 5, 6]\n",
      "\n",
      "Raw data:\n",
      "[[1, 2, 3], [4, 5, 6]]\n"
     ]
    }
   ],
   "source": [
    "data = [[1, 2, 3],\n",
    "        [4, 5, 6]]\n",
    "\n",
    "df = SimpleDataFrame(data)\n",
    "\n",
    "print(\"Simple data frame:\")\n",
    "print(df)\n",
    "\n",
    "print(\"Raw data:\")\n",
    "print(data)"
   ]
  },
  {
   "cell_type": "code",
   "execution_count": 20,
   "metadata": {
    "slideshow": {
     "slide_type": "fragment"
    }
   },
   "outputs": [
    {
     "data": {
      "text/plain": [
       "6"
      ]
     },
     "execution_count": 20,
     "metadata": {},
     "output_type": "execute_result"
    }
   ],
   "source": [
    "df.get(1, 2)"
   ]
  },
  {
   "cell_type": "code",
   "execution_count": 21,
   "metadata": {
    "slideshow": {
     "slide_type": "subslide"
    }
   },
   "outputs": [
    {
     "name": "stdout",
     "output_type": "stream",
     "text": [
      "['x0', 'x1', 'x2']\n",
      "[2, 4, 6]\n",
      "[8, 10, 12]\n",
      "\n"
     ]
    }
   ],
   "source": [
    "print(df.multiply(2))"
   ]
  },
  {
   "cell_type": "markdown",
   "metadata": {
    "slideshow": {
     "slide_type": "subslide"
    }
   },
   "source": [
    "Time to practice writing own classes will come in the future. Currently, you just have to know that you can define new data types (like `pandas.DataFrame` using classes).\n",
    "\n",
    "Time to learn other useful libraries bringing new data types and associated methods: `numpy` and `matplotlib`."
   ]
  },
  {
   "cell_type": "markdown",
   "metadata": {
    "slideshow": {
     "slide_type": "slide"
    }
   },
   "source": [
    "# To be continued..."
   ]
  }
 ],
 "metadata": {
  "kernelspec": {
   "display_name": "Python 3",
   "language": "python",
   "name": "python3"
  },
  "language_info": {
   "codemirror_mode": {
    "name": "ipython",
    "version": 3
   },
   "file_extension": ".py",
   "mimetype": "text/x-python",
   "name": "python",
   "nbconvert_exporter": "python",
   "pygments_lexer": "ipython3",
   "version": "3.6.5"
  }
 },
 "nbformat": 4,
 "nbformat_minor": 2
}
